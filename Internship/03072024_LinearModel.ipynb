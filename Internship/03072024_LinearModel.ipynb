{
 "cells": [
  {
   "cell_type": "markdown",
   "id": "0488765a-59c2-41fa-9f55-aba2b7e063e0",
   "metadata": {},
   "source": [
    "# Data Loading and Preprocessing"
   ]
  },
  {
   "cell_type": "code",
   "execution_count": null,
   "id": "60e8a69e-e81b-4c29-be8c-71be4518632f",
   "metadata": {},
   "outputs": [],
   "source": [
    "#import necessary libraries\n",
    "\n",
    "import pandas as pd\n",
    "import numpy as np"
   ]
  },
  {
   "cell_type": "code",
   "execution_count": null,
   "id": "58ad409f-4672-4265-94b3-52db3bc7f39f",
   "metadata": {},
   "outputs": [],
   "source": [
    "data=pd.read_csv('datasets copies/DispatchSummary.csv')"
   ]
  },
  {
   "cell_type": "code",
   "execution_count": null,
   "id": "83c8dc97-ac3b-4de6-bc05-a8ea59695d62",
   "metadata": {},
   "outputs": [],
   "source": [
    "data.columns"
   ]
  },
  {
   "cell_type": "code",
   "execution_count": null,
   "id": "4e23127f-8ac8-4149-9123-9a202531649d",
   "metadata": {},
   "outputs": [],
   "source": [
    "data.columns=['financial_year', 'sales', 'man_power', 'available_hours', 'inc_smh', 'efficiency', 'smh', 'booked', 'smh_lacs']"
   ]
  },
  {
   "cell_type": "code",
   "execution_count": null,
   "id": "db0c554d-a898-4666-acba-bea77afd8789",
   "metadata": {},
   "outputs": [],
   "source": [
    "data.columns"
   ]
  },
  {
   "cell_type": "code",
   "execution_count": null,
   "id": "e4b5b355-f57c-45d1-a39f-8a2db6e2b87e",
   "metadata": {},
   "outputs": [],
   "source": [
    "dataDic={}\n",
    "dataDic['financial_year']=data['financial_year'][0:9]\n",
    "dataDic['sales']=data['sales'][0:9]\n",
    "dataDic['man_power']=data['man_power'][0:9]\n",
    "dataDic['efficiency']=data['efficiency'][0:9]\n",
    "dataDic['booked']=data['booked'][0:9]\n",
    "dataDic['dispatch_smh']=data['inc_smh'][0:9]\n",
    "dataDic['inhouse_smh']=data['smh'][0:9]\n",
    "dataDic['outsourced_smh']=data['smh_lacs'][0:9]\n",
    "\n",
    "print(dataDic)"
   ]
  },
  {
   "cell_type": "code",
   "execution_count": null,
   "id": "f21c52d5-e1e4-481e-898e-3f03fc8d5aee",
   "metadata": {},
   "outputs": [],
   "source": [
    "df=pd.DataFrame(dataDic)\n",
    "print(df)"
   ]
  },
  {
   "cell_type": "markdown",
   "id": "1c68e257-42ea-444c-945f-15c2eb1f39a3",
   "metadata": {},
   "source": [
    "# Efficiency prediction"
   ]
  },
  {
   "cell_type": "code",
   "execution_count": null,
   "id": "c7f590d3-ed12-4385-ab0d-38040f4be597",
   "metadata": {},
   "outputs": [],
   "source": [
    "from statsmodels.tsa.arima.model import ARIMA\n",
    "# Create and fit the ARIMA model\n",
    "model = ARIMA(data['efficiency'][0:9], order=(1, 1, 1)) # Adjust (p, d, q) based on you\n",
    "model_fit = model.fit()\n",
    "# Forecast the next 5 periods (5 years in this case)\n",
    "forecast = model_fit.forecast(steps=6)\n",
    "# Print the forecasted values\n",
    "print(forecast)\n"
   ]
  },
  {
   "cell_type": "code",
   "execution_count": null,
   "id": "1008e20c-bd9d-4599-9aa1-c6937ff13748",
   "metadata": {},
   "outputs": [],
   "source": [
    "import pickle\n",
    "\n",
    "pickle.dump(model_fit, open('effModel.pkl', 'wb'))"
   ]
  },
  {
   "cell_type": "code",
   "execution_count": null,
   "id": "6056d013-3a7c-4889-93ec-15432773661f",
   "metadata": {},
   "outputs": [],
   "source": [
    "from decimal import Decimal, ROUND_DOWN\n",
    "\n",
    "for i in range(6):\n",
    "    value=Decimal(forecast[i+9])\n",
    "    forecast[i+9]=value.quantize(Decimal('0.01'), rounding=ROUND_DOWN)\n",
    "print(forecast)"
   ]
  },
  {
   "cell_type": "code",
   "execution_count": null,
   "id": "d2f6d310-c0d8-4ab8-8372-c500133ef6d2",
   "metadata": {},
   "outputs": [],
   "source": [
    "fin_year=data['financial_year']\n",
    "efficiency_ar=pd.concat([df['efficiency'], pd.DataFrame(forecast)['predicted_mean']], axis=0)\n",
    "efficiency_ar=efficiency_ar.reset_index()\n",
    "\n",
    "#display\n",
    "print('Financial year\\tEfficiency')\n",
    "for i in range(len(fin_year)):\n",
    "    print(fin_year[i],'\\t',efficiency_ar[0][i])\n",
    "\n",
    "#plot\n",
    "import matplotlib.pyplot as plt\n",
    "\n",
    "plt.figure(figsize=(12, 6))\n",
    "plt.plot(fin_year, efficiency_ar[0], marker='o')\n",
    "plt.xlabel('Financial year')\n",
    "plt.ylabel('Efficiency')\n",
    "plt.title('Efficiency over years')\n",
    "plt.grid()\n",
    "plt.savefig('effOverYears.png')\n",
    "plt.show()"
   ]
  },
  {
   "cell_type": "code",
   "execution_count": null,
   "id": "79ddff10-067b-47f3-9b3a-67c0b40bb634",
   "metadata": {},
   "outputs": [],
   "source": [
    "#plot(manpower vs efficiency)\n",
    "manpower=data['man_power']\n",
    "plt.figure(figsize=(12, 6))\n",
    "plt.plot(manpower, efficiency_ar[0], marker='o')\n",
    "plt.xlabel('Manpower')\n",
    "plt.ylabel('Efficiency')\n",
    "plt.title('Efficiency over Man power')\n",
    "plt.grid()\n",
    "plt.savefig('effOverManpower.png')\n",
    "plt.show()\n",
    "\n"
   ]
  },
  {
   "cell_type": "markdown",
   "id": "328cb4b6-fdd2-4b76-89d8-b3ab20d935d6",
   "metadata": {},
   "source": [
    "# Inhouse SMH"
   ]
  },
  {
   "cell_type": "code",
   "execution_count": null,
   "id": "e257f1aa-4139-4c0d-a405-4a63d9d3cd94",
   "metadata": {},
   "outputs": [],
   "source": [
    "booked_test=data['booked'][9:15].reset_index()\n",
    "financial_year_test=data['financial_year'][9:15].reset_index()\n",
    "\n",
    "fut_efficiency=forecast.reset_index()\n",
    "inhouse_smh_predicted = (booked_test['booked'] * fut_efficiency['predicted_mean']) / 100\n",
    "inhouse_smh_predicted = inhouse_smh_predicted.reset_index()\n",
    "inhouse_smh_predicted.columns=['index', 'smh']"
   ]
  },
  {
   "cell_type": "code",
   "execution_count": null,
   "id": "d26fa3e1-6dc1-4574-88bc-7cf6ed52e87a",
   "metadata": {},
   "outputs": [],
   "source": [
    "from decimal import Decimal, ROUND_DOWN\n",
    "\n",
    "for i in range(6):\n",
    "    value=Decimal(inhouse_smh_predicted['smh'][i])\n",
    "    inhouse_smh_predicted['smh'][i]=value.quantize(Decimal('0.01'), rounding=ROUND_DOWN)\n",
    "print(inhouse_smh_predicted['smh'])"
   ]
  },
  {
   "cell_type": "code",
   "execution_count": null,
   "id": "1b679e14-a21a-43fa-95cc-972fa45fb25e",
   "metadata": {},
   "outputs": [],
   "source": [
    "print('Prediction on future data')\n",
    "print('Financial year\\tEfficiency\\tInhouse SMH\\t\\tBooked')\n",
    "for i in range(len(booked_test)):\n",
    "    print(financial_year_test['financial_year'][i],'\\t',fut_efficiency['predicted_mean'][i],'\\t',inhouse_smh_predicted['smh'][i],'\\t',booked_test['booked'][i])\n"
   ]
  },
  {
   "cell_type": "code",
   "execution_count": null,
   "id": "c353182b-2f20-41e3-87cc-21a2c5a9a5d2",
   "metadata": {},
   "outputs": [],
   "source": [
    "manpower=data['man_power']\n",
    "\n",
    "inhouse_smh=pd.concat([pd.DataFrame({'smh':df['inhouse_smh']}), pd.DataFrame(inhouse_smh_predicted['smh'])], axis=0)\n",
    "inhouse_smh=inhouse_smh.reset_index()\n",
    "\n",
    "print('Financial year\\tMan Power\\tEfficiency\\tInnhouse SMH')\n",
    "for i in range(len(manpower)):\n",
    "    print(fin_year[i], '\\t\\t', manpower[i], '\\t\\t', efficiency_ar[0][i], '\\t\\t\\t', inhouse_smh['smh'][i], sep='')"
   ]
  },
  {
   "cell_type": "code",
   "execution_count": null,
   "id": "d57bddf6-7bea-460c-813f-99ea30e553d4",
   "metadata": {},
   "outputs": [],
   "source": [
    "#plot(financial year vs inhouse smh)\n",
    "\n",
    "plt.figure(figsize=(12, 6))\n",
    "plt.plot(fin_year, inhouse_smh['smh'], marker='o')\n",
    "plt.xlabel('Financial Year')\n",
    "plt.ylabel('Inhouse SMH')\n",
    "plt.title('Inhouse SMH over years')\n",
    "plt.grid()\n",
    "plt.savefig('inhouseOverYears.png')\n",
    "plt.show()"
   ]
  },
  {
   "cell_type": "markdown",
   "id": "e5edcb57-d44e-4e4a-8d36-2a3af41da1fc",
   "metadata": {},
   "source": [
    "# Dispatch SMH"
   ]
  },
  {
   "cell_type": "markdown",
   "id": "bbc45821-664f-41f2-a2bd-91e61fb0cec9",
   "metadata": {},
   "source": [
    "**LinearModel for dispatch based on sales**"
   ]
  },
  {
   "cell_type": "code",
   "execution_count": null,
   "id": "e92e7cb6-6261-4f4f-a344-24d9d5bbdc7e",
   "metadata": {},
   "outputs": [],
   "source": [
    "sales_train=df['sales'].values.reshape(-1,1)\n",
    "dispatch_smh_train=df['dispatch_smh'].values"
   ]
  },
  {
   "cell_type": "code",
   "execution_count": null,
   "id": "54f4fc64-f89a-479b-8775-208f5768c05a",
   "metadata": {},
   "outputs": [],
   "source": [
    "from sklearn.linear_model import LinearRegression\n",
    "lin_model=LinearRegression()\n",
    "lin_model.fit(sales_train,dispatch_smh_train)"
   ]
  },
  {
   "cell_type": "code",
   "execution_count": null,
   "id": "46a82857-0c3d-4cd6-ba9f-9a71a5912a2a",
   "metadata": {},
   "outputs": [],
   "source": [
    "sales_test=data['sales'][9:15].values.reshape(-1,1)\n",
    "dispatch_smh_test_pred=lin_model.predict(sales_test)"
   ]
  },
  {
   "cell_type": "code",
   "execution_count": null,
   "id": "abb7b4bc-b9c8-4cc5-8ee4-85e741a5f064",
   "metadata": {},
   "outputs": [],
   "source": [
    "import pickle\n",
    "\n",
    "pickle.dump(lin_model, open('dispatchModel.pkl', 'wb'))"
   ]
  },
  {
   "cell_type": "code",
   "execution_count": null,
   "id": "77c9ee09-6cde-479d-983e-64bc312c0c8d",
   "metadata": {},
   "outputs": [],
   "source": [
    "print('\\nPrediction on future data')\n",
    "print('Sales\\t\\tDispatch SMH')\n",
    "for i in range(len(sales_test)):\n",
    "    print(*sales_test[i],'\\t\\t',dispatch_smh_test_pred[i])"
   ]
  },
  {
   "cell_type": "code",
   "execution_count": null,
   "id": "cf52da21-51df-45b2-b076-2177d82abd85",
   "metadata": {},
   "outputs": [],
   "source": [
    "from decimal import Decimal, ROUND_DOWN\n",
    "\n",
    "for i in range(6):\n",
    "    value=Decimal(dispatch_smh_test_pred[i])\n",
    "    dispatch_smh_test_pred[i]=value.quantize(Decimal('0.01'), rounding=ROUND_DOWN)\n",
    "print(dispatch_smh_test_pred)"
   ]
  },
  {
   "cell_type": "code",
   "execution_count": null,
   "id": "4cc73a60-c6e7-45fc-acea-24c8abd2b488",
   "metadata": {},
   "outputs": [],
   "source": [
    "sales=data['sales']\n",
    "dispatch_smh=pd.concat([df['dispatch_smh'],pd.DataFrame(dispatch_smh_test_pred)]).reset_index()\n",
    "\n",
    "print('Financial Year\\tSales\\tDispatch SMH')\n",
    "for i in range(len(sales)):\n",
    "    print(fin_year[i],'\\t',sales[i],'\\t',dispatch_smh[0][i])"
   ]
  },
  {
   "cell_type": "code",
   "execution_count": null,
   "id": "23efe07e-8d21-4daf-a50d-1954ed15046b",
   "metadata": {},
   "outputs": [],
   "source": [
    "#plotting dispatch smh over years \n",
    "plt.figure(figsize=(12, 6))\n",
    "plt.plot(fin_year,dispatch_smh[0],marker='o')\n",
    "plt.xlabel('Financial Years')\n",
    "plt.ylabel('Dispatch SMH')\n",
    "plt.title('Dispatch SMH over years')\n",
    "plt.grid()\n",
    "plt.savefig('dispatchOverYears.png')\n",
    "plt.show()"
   ]
  },
  {
   "cell_type": "code",
   "execution_count": null,
   "id": "deb804f7-1c7b-4da8-93bd-8e03d28b710a",
   "metadata": {},
   "outputs": [],
   "source": [
    "#plotting dispatch smh over Sales\n",
    "plt.figure(figsize=(12, 6))\n",
    "plt.plot(sales,dispatch_smh[0],marker='o')\n",
    "plt.xlabel('Sales')\n",
    "plt.ylabel('Dispatch SMH')\n",
    "plt.title('Dispatch SMH over Sales')\n",
    "plt.grid()\n",
    "plt.savefig('dispatchOverSales.png')\n",
    "plt.show()"
   ]
  },
  {
   "cell_type": "markdown",
   "id": "feaca433-aa5c-4623-8c89-d58c3f09b82f",
   "metadata": {},
   "source": [
    "# Outsourced SMH"
   ]
  },
  {
   "cell_type": "markdown",
   "id": "017e8d8b-5944-4762-b60b-e58fcf64cfe6",
   "metadata": {},
   "source": [
    "**Linear Model for outsourced smh based on inhouse smh**"
   ]
  },
  {
   "cell_type": "code",
   "execution_count": null,
   "id": "6d3671eb-c564-444f-badc-078b1844696e",
   "metadata": {},
   "outputs": [],
   "source": [
    "x_train=df['inhouse_smh'].values.reshape(-1,1)\n",
    "outsourced_smh_train=df['outsourced_smh'].values"
   ]
  },
  {
   "cell_type": "code",
   "execution_count": null,
   "id": "4c06fe24-cc65-41b5-ae3c-e53357da4b1d",
   "metadata": {},
   "outputs": [],
   "source": [
    "out_model=LinearRegression()\n",
    "out_model.fit(x_train,outsourced_smh_train)"
   ]
  },
  {
   "cell_type": "code",
   "execution_count": null,
   "id": "875f2769-4ea6-4d4b-b369-2d55030f9252",
   "metadata": {},
   "outputs": [],
   "source": [
    "x_test=pd.DataFrame({'inhouse_smh' : inhouse_smh_predicted['smh']})\n",
    "outsourced_smh_test_pred=out_model.predict(x_test)"
   ]
  },
  {
   "cell_type": "code",
   "execution_count": null,
   "id": "fb1f3152-acd1-4f18-b761-6cdad31ee0ed",
   "metadata": {},
   "outputs": [],
   "source": [
    "import pickle\n",
    "\n",
    "pickle.dump(out_model, open('outsourcedModel.pkl', 'wb'))"
   ]
  },
  {
   "cell_type": "code",
   "execution_count": null,
   "id": "369111ee-2295-4813-bbdf-f635b941208d",
   "metadata": {},
   "outputs": [],
   "source": [
    "print('\\nPrediction on future data')\n",
    "print('Financial Year\\t\\tOutsourced SMH')\n",
    "for i in range(len(sales_test)):\n",
    "    print(fin_year[i],'\\t\\t',outsourced_smh_test_pred[i])"
   ]
  },
  {
   "cell_type": "code",
   "execution_count": null,
   "id": "72b47bbe-f630-4228-b72b-83a49ff2b92e",
   "metadata": {},
   "outputs": [],
   "source": [
    "from decimal import Decimal, ROUND_DOWN\n",
    "\n",
    "for i in range(6):\n",
    "    value=Decimal(outsourced_smh_test_pred[i])\n",
    "    outsourced_smh_test_pred[i]=value.quantize(Decimal('0.01'), rounding=ROUND_DOWN)\n",
    "print(outsourced_smh_test_pred)"
   ]
  },
  {
   "cell_type": "code",
   "execution_count": null,
   "id": "db00495a-6649-4165-9b29-b4a315c76e5b",
   "metadata": {},
   "outputs": [],
   "source": [
    "outsourced_smh=pd.concat([df['outsourced_smh'], pd.DataFrame(outsourced_smh_test_pred)], axis=0).reset_index()\n",
    "\n",
    "print('Financial year\\tInhouse SMH\\tOutsoured SMH')\n",
    "for i in range(len(fin_year)):\n",
    "    print(fin_year[i], '\\t',  inhouse_smh['smh'][i], '\\t', outsourced_smh[0][i])"
   ]
  },
  {
   "cell_type": "code",
   "execution_count": null,
   "id": "bfcf4685-382d-467c-9e3f-85a36c880461",
   "metadata": {},
   "outputs": [],
   "source": [
    "#plotting OutSourced smh over years \n",
    "plt.figure(figsize=(12, 6))\n",
    "plt.plot(fin_year,outsourced_smh[0],marker='o')\n",
    "plt.xlabel('Financial Years')\n",
    "plt.ylabel('Outsourced SMH')\n",
    "plt.title('Outsourced SMH over years')\n",
    "plt.grid()\n",
    "plt.savefig('outsourcedOverYears.png')\n",
    "plt.show()"
   ]
  },
  {
   "cell_type": "code",
   "execution_count": null,
   "id": "1b821088-7926-4c76-b20d-df7038ee49f9",
   "metadata": {},
   "outputs": [],
   "source": [
    "predicted=pd.DataFrame({\n",
    "    'financial_year' : data['financial_year'][9:15].reset_index()['financial_year'],\n",
    "    'sales' : data['sales'][9:15].reset_index()['sales'],\n",
    "    'man_power': data['man_power'][9:15].reset_index()['man_power'],\n",
    "    'efficiency' : fut_efficiency['predicted_mean'],\n",
    "    'dispatch_smh' : dispatch_smh_test_pred,\n",
    "    'inhouse_smh' : inhouse_smh_predicted['smh'],\n",
    "    'outsourced_smh' : outsourced_smh_test_pred\n",
    "\n",
    "})\n",
    "\n",
    "print(predicted)"
   ]
  },
  {
   "cell_type": "code",
   "execution_count": null,
   "id": "65ccbf9e-0ad8-40c9-96b9-d503f095c892",
   "metadata": {},
   "outputs": [],
   "source": [
    "import pickle\n",
    "\n",
    "#dump\n",
    "pickle.dump(predicted, open('predictedValues.pkl', 'wb'))"
   ]
  },
  {
   "cell_type": "code",
   "execution_count": null,
   "id": "c2d1ce66-680e-4984-8c58-bfb3363ae1cd",
   "metadata": {},
   "outputs": [],
   "source": []
  },
  {
   "cell_type": "code",
   "execution_count": null,
   "id": "8b875dfa-4d72-4c34-8f89-31817c7e73b1",
   "metadata": {},
   "outputs": [],
   "source": []
  }
 ],
 "metadata": {
  "kernelspec": {
   "display_name": "Python 3 (ipykernel)",
   "language": "python",
   "name": "python3"
  },
  "language_info": {
   "codemirror_mode": {
    "name": "ipython",
    "version": 3
   },
   "file_extension": ".py",
   "mimetype": "text/x-python",
   "name": "python",
   "nbconvert_exporter": "python",
   "pygments_lexer": "ipython3",
   "version": "3.11.7"
  }
 },
 "nbformat": 4,
 "nbformat_minor": 5
}
