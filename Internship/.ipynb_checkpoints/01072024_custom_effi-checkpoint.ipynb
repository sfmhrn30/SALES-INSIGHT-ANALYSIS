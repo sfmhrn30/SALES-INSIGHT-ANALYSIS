{
 "cells": [
  {
   "cell_type": "markdown",
   "id": "d65e2603-081f-4aad-88c5-d97c0918574d",
   "metadata": {},
   "source": [
    "# Custom function for efficiency"
   ]
  },
  {
   "cell_type": "code",
   "execution_count": null,
   "id": "0b39bd9e-365f-4798-85e5-d0ecba01c312",
   "metadata": {},
   "outputs": [],
   "source": [
    "import pandas as pd\n",
    "\n",
    "data=pd.read_csv('datasets copies/DispatchSummary.csv')\n",
    "k=len(data['Efficiency'].dropna())"
   ]
  },
  {
   "cell_type": "code",
   "execution_count": null,
   "id": "a9d3eca0-7306-4b77-af98-0a7bba6a3f7b",
   "metadata": {},
   "outputs": [],
   "source": [
    "def efficiency_custom(t,n,last_year):\n",
    "    eff_fut=[last_year]\n",
    "    for i in range(t):\n",
    "        temp=eff_fut[-1]+eff_fut[-1]*(n/100)\n",
    "        eff_fut.append(temp)\n",
    "    return eff_fut[1:]\n",
    "\n",
    "t=int(input('enter the number of future values to be calculated:'))\n",
    "n=int(input('Enter the rate of increase (%):'))\n",
    "last_year=data['Efficiency'][k-1]\n",
    "fut_eff_cal=efficiency_custom(t,n,last_year)\n",
    "\n",
    "print(fut_eff_cal)"
   ]
  },
  {
   "cell_type": "code",
   "execution_count": null,
   "id": "4bcc16e9-3f38-4880-808e-1d15faa4c3b3",
   "metadata": {},
   "outputs": [],
   "source": []
  }
 ],
 "metadata": {
  "kernelspec": {
   "display_name": "Python 3 (ipykernel)",
   "language": "python",
   "name": "python3"
  },
  "language_info": {
   "codemirror_mode": {
    "name": "ipython",
    "version": 3
   },
   "file_extension": ".py",
   "mimetype": "text/x-python",
   "name": "python",
   "nbconvert_exporter": "python",
   "pygments_lexer": "ipython3",
   "version": "3.11.7"
  }
 },
 "nbformat": 4,
 "nbformat_minor": 5
}
