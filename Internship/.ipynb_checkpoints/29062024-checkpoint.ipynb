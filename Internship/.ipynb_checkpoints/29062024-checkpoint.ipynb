{
 "cells": [
  {
   "cell_type": "markdown",
   "id": "79868fff-31fd-4b7a-bc9f-9737119c8127",
   "metadata": {},
   "source": [
    "# Data loading and defining"
   ]
  },
  {
   "cell_type": "code",
   "execution_count": null,
   "id": "6f842bb7-d7ad-40a1-bec4-363321be27e4",
   "metadata": {},
   "outputs": [],
   "source": [
    "#import necessary libraries\n",
    "\n",
    "import pandas as pd\n",
    "import numpy as np"
   ]
  },
  {
   "cell_type": "code",
   "execution_count": null,
   "id": "6d7fd084-308c-44c7-bd9b-fc019b12b87a",
   "metadata": {},
   "outputs": [],
   "source": [
    "data=pd.read_csv('datasets copies/DispatchSummary.csv')"
   ]
  },
  {
   "cell_type": "code",
   "execution_count": null,
   "id": "afdca20d-cf0e-4733-a7b0-94bdaf1533a0",
   "metadata": {},
   "outputs": [],
   "source": [
    "data.columns"
   ]
  },
  {
   "cell_type": "code",
   "execution_count": null,
   "id": "46be5ecb-1a4f-4f71-a014-d0ced747ec5c",
   "metadata": {},
   "outputs": [],
   "source": [
    "data.columns=['financial_year', 'sales', 'man_power', 'available_hours', 'inc_smh', 'efficiency', 'smh', 'booked', 'smh_lacs']"
   ]
  },
  {
   "cell_type": "code",
   "execution_count": null,
   "id": "69911f66-dc32-486c-913e-9a908215cf21",
   "metadata": {},
   "outputs": [],
   "source": [
    "data.columns"
   ]
  },
  {
   "cell_type": "code",
   "execution_count": null,
   "id": "fb2e98d7-d147-4356-bc2f-69c167c5a676",
   "metadata": {},
   "outputs": [],
   "source": [
    "dataDic={}\n",
    "dataDic['financial_year']=data['financial_year'][0:9]\n",
    "dataDic['sales']=data['sales'][0:9]\n",
    "dataDic['man_power']=data['man_power'][0:9]\n",
    "dataDic['efficiency']=data['efficiency'][0:9]\n",
    "dataDic['booked']=data['booked'][0:9]\n",
    "dataDic['dispatch_smh']=data['inc_smh'][0:9]\n",
    "dataDic['inhouse_smh']=data['smh'][0:9]\n",
    "dataDic['outsourced_smh']=data['smh_lacs'][0:9]\n",
    "\n",
    "print(dataDic)"
   ]
  },
  {
   "cell_type": "code",
   "execution_count": null,
   "id": "38a395ad-0ad2-40d8-b9ae-8c958daf21f1",
   "metadata": {},
   "outputs": [],
   "source": [
    "df=pd.DataFrame(dataDic)\n",
    "print(df)"
   ]
  },
  {
   "cell_type": "markdown",
   "id": "fbe7ef83-8db1-4c21-9838-dc8ace888956",
   "metadata": {},
   "source": [
    "# Prediction of efficiency based on man power"
   ]
  },
  {
   "cell_type": "code",
   "execution_count": null,
   "id": "6ca0ad86-c4b2-495f-886a-55a62a7dbd5c",
   "metadata": {},
   "outputs": [],
   "source": [
    "manpower_train=df['man_power'].values.reshape(-1,1)\n",
    "efficiency_train=df['efficiency'].values"
   ]
  },
  {
   "cell_type": "markdown",
   "id": "80cb02f9-7009-4d9a-aba1-7ba98cfdf5e0",
   "metadata": {},
   "source": [
    "**Various Models**"
   ]
  },
  {
   "cell_type": "code",
   "execution_count": null,
   "id": "f60c2658-47e5-4dfd-a650-94485cb21192",
   "metadata": {},
   "outputs": [],
   "source": [
    "from sklearn.linear_model import LinearRegression\n",
    "from sklearn.tree import DecisionTreeRegressor\n",
    "from sklearn.svm import SVR\n",
    "from sklearn.ensemble import RandomForestRegressor\n",
    "from sklearn.ensemble import GradientBoostingRegressor\n",
    "from sklearn.svm import SVR\n"
   ]
  },
  {
   "cell_type": "code",
   "execution_count": null,
   "id": "5d110a74-1955-4794-ad89-7fae611fddcf",
   "metadata": {},
   "outputs": [],
   "source": [
    "def models_for_efficiency(model_name, model):\n",
    "  print('\\n',model_name, sep='')\n",
    "\n",
    "  #model building\n",
    "  model.fit(manpower_train, efficiency_train)\n",
    "\n",
    "  #prediction on train data\n",
    "  efficiency_train_predict=model.predict(manpower_train)\n",
    "  print('On train dataset (Actual vs Predict)')\n",
    "  print('Actual\\tPredict')\n",
    "  for i in range(len(manpower_train)):\n",
    "    print(f'{efficiency_train[i]}\\t{efficiency_train_predict[i]}')\n",
    "\n",
    "  #mse\n",
    "  mse=mean_squared_error(efficiency_train, efficiency_train_predict)\n",
    "  print(f'\\nMSE: {mse:.2f}\\n')\n",
    "\n",
    "  #plot\n",
    "  plt.plot(manpower_train, efficiency_train, color='blue', label='Actual')\n",
    "  plt.plot(manpower_train, efficiency_train_predict, color='red', label='Predict')\n",
    "  plt.xlabel('man power')\n",
    "  plt.ylabel('efficiency')\n",
    "  plt.show()\n",
    "\n",
    "  #prediction on unseen data\n",
    "  manpower_test=data['man_power'][9:15].values.reshape(-1,1)\n",
    "  financial_year_test=data['financial_year'][9:15].reset_index()\n",
    "\n",
    "\n",
    "  efficiency_predict_test=model.predict(manpower_test)\n",
    "  print('\\nPrediction on future data')\n",
    "  print('Financial year\\tMan power\\tEfficiency')\n",
    "  for i in range(len(manpower_test)):\n",
    "      print(financial_year_test['financial_year'][i],'\\t',*manpower_test[i],'\\t\\t',efficiency_predict_test[i])\n",
    "  return efficiency_predict_test\n"
   ]
  },
  {
   "cell_type": "code",
   "execution_count": null,
   "id": "51d48f81-c993-438a-a69a-88e86f171b62",
   "metadata": {},
   "outputs": [],
   "source": [
    "models={\n",
    "    'LINEAR REGRESSION':LinearRegression(),\n",
    "    'DECISION TREE REGRESSION':DecisionTreeRegressor(),\n",
    "    'RANDOM FOREST REGRESSION':RandomForestRegressor(n_estimators=100, max_depth=4),\n",
    "    'GRADIENT BOOSTING REGRESSION':GradientBoostingRegressor(n_estimators=100, max_depth=4),\n",
    "    'SUPPORT VECTOR REGRESSION':SVR(kernel='linear', C=1.0, epsilon=0.1)\n",
    "}\n",
    "\n",
    "efficiency_predictions=[]\n",
    "for model_name, model in models.items():\n",
    "  efficiency_predictions.append(models_for_efficiency(model_name, model))"
   ]
  },
  {
   "cell_type": "markdown",
   "id": "9ff31058-8276-45c6-b320-e51c8f790015",
   "metadata": {},
   "source": [
    "**Polynomial Regression**"
   ]
  },
  {
   "cell_type": "code",
   "execution_count": null,
   "id": "3305ca64-5c25-4397-b071-ad73c3d44a91",
   "metadata": {},
   "outputs": [],
   "source": [
    "from sklearn.preprocessing import PolynomialFeatures\n",
    "\n",
    "poly=PolynomialFeatures(degree=3)\n",
    "manpower_train_poly=poly.fit_transform(manpower_train)"
   ]
  },
  {
   "cell_type": "code",
   "execution_count": null,
   "id": "c54138d7-d69e-40bf-9490-665d53c147f6",
   "metadata": {},
   "outputs": [],
   "source": [
    "from sklearn.linear_model import LinearRegression\n",
    "efficiency_model_poly = LinearRegression()\n",
    "efficiency_model_poly.fit(manpower_train_poly, efficiency_train)\n",
    "\n",
    "#prediction on train dataset\n",
    "efficiency_train_predict_poly=efficiency_model_poly.predict(manpower_train_poly)\n",
    "print('On train dataset (Actual vs Predict)')\n",
    "print('Actual\\tPredict')\n",
    "for i in range(len(manpower_train)):\n",
    "    print(f'{efficiency_train[i]}\\t{efficiency_train_predict_poly[i]}')\n",
    "\n",
    "#mean square error\n",
    "from sklearn.metrics import mean_squared_error\n",
    "print('\\nMean squared error: ', mean_squared_error(efficiency_train, efficiency_train_predict_poly), '\\n')\n",
    "\n",
    "#plot\n",
    "import matplotlib.pyplot as plt\n",
    "\n",
    "plt.plot(manpower_train, efficiency_train, color='blue', label='Actual')\n",
    "plt.plot(manpower_train, efficiency_train_predict_poly, color='red', label='Predict')\n",
    "plt.xlabel('man power')\n",
    "plt.ylabel('efficiency')\n",
    "plt.show()\n",
    "\n",
    "#prediction on unseen data\n",
    "manpower_test=data['man_power'][9:15].values.reshape(-1,1)\n",
    "manpower_test_poly=poly.transform(manpower_test)\n",
    "financial_year_test=data['financial_year'][9:15].reset_index()\n",
    "\n",
    "efficiency_predicted_poly=efficiency_model_poly.predict(manpower_test_poly)\n",
    "\n",
    "print('Prediction on future data')\n",
    "print('Financial year\\tMan power\\tEfficiency')\n",
    "for i in range(len(manpower_test)):\n",
    "    print(financial_year_test['financial_year'][i],'\\t',*manpower_test[i],'\\t',efficiency_predicted_poly[i])\n",
    "\n",
    "efficiency_predictions.append(efficiency_predicted_poly)"
   ]
  },
  {
   "cell_type": "markdown",
   "id": "e1ccd17b-cab4-46e4-8102-7df47a9d796b",
   "metadata": {},
   "source": [
    "**Comparison of All Models**"
   ]
  },
  {
   "cell_type": "code",
   "execution_count": null,
   "id": "c49a5860-4983-42ea-be45-b334a97efa20",
   "metadata": {},
   "outputs": [],
   "source": [
    "future_years = ['2024-25', '2025-26', '2026-27', '2027-28', '2028-29', '2029-30']\n",
    "labels=['Linear Regression', 'Decision Tree Regression', 'Random Forest Regression', 'Gradient Boosting Regression', 'Support Vector Regression', 'Polynomial Regression']\n",
    "colors=['blue', 'black', 'purple', 'brown', 'red', 'olive']\n",
    "# Plotting Future Predictions\n",
    "plt.figure(figsize=(12, 6))\n",
    "for i in range(len(labels)):\n",
    "    plt.plot(future_years, efficiency_predictions[i], label=labels[i], marker='o', color=colors[i])\n",
    "plt.xlabel('Financial Year')\n",
    "plt.ylabel('Predicted Efficiency')\n",
    "plt.title('Predicted Efficiency for Future Years')\n",
    "plt.grid()\n",
    "plt.legend()\n",
    "plt.show()\n"
   ]
  },
  {
   "cell_type": "markdown",
   "id": "febd5a63-4368-4026-aedc-428e443162c6",
   "metadata": {},
   "source": [
    "**Hyper Parameter Tuning of SVR**"
   ]
  },
  {
   "cell_type": "code",
   "execution_count": null,
   "id": "25f283b0-4e32-4c3f-8022-db2051a4eb1e",
   "metadata": {},
   "outputs": [],
   "source": [
    "from sklearn.svm import SVR\n",
    "from sklearn.model_selection import GridSearchCV\n",
    "from sklearn.preprocessing import StandardScaler, PolynomialFeatures\n",
    "from sklearn.pipeline import Pipeline\n",
    "from sklearn.metrics import mean_squared_error\n",
    "import numpy as np\n",
    "\n",
    "pipeline = Pipeline([\n",
    "    ('scaler', StandardScaler()),\n",
    "    ('svr', SVR())\n",
    "])\n",
    "\n",
    "param_grid = {\n",
    "    'svr__C': [0.1, 1, 10, 100],  # Regularization parameter\n",
    "    'svr__epsilon': [0.01, 0.1, 1],  # Epsilon in the epsilon-SVR model\n",
    "    'svr__kernel': ['linear', 'rbf', 'poly']  # Kernel type\n",
    "}\n",
    "\n",
    "grid_search = GridSearchCV(pipeline, param_grid, cv=5, scoring='neg_mean_squared_error', verbose=2)\n",
    "grid_search.fit(manpower_train, efficiency_train)"
   ]
  },
  {
   "cell_type": "code",
   "execution_count": null,
   "id": "580684c8-0a3d-4eb8-8926-dd39a71650e3",
   "metadata": {},
   "outputs": [],
   "source": [
    "print(\"Best parameters found: \", grid_search.best_params_)\n",
    "print(\"Lowest MSE found: \", -grid_search.best_score_)\n",
    "\n",
    "best_model = grid_search.best_estimator_\n",
    "efficiency_pred_best = best_model.predict(manpower_train)\n",
    "mse_best = mean_squared_error(efficiency_train, efficiency_pred_best)\n",
    "print(f'Best Model MSE: {mse_best:.2f}')"
   ]
  },
  {
   "cell_type": "markdown",
   "id": "599a8fed-ba8a-4fe6-941d-dda2fb0657ae",
   "metadata": {},
   "source": [
    "**Final Model: Support Vector Regression**"
   ]
  },
  {
   "cell_type": "code",
   "execution_count": null,
   "id": "faa15c41-c753-45ca-9b00-fcb8d24c48b2",
   "metadata": {},
   "outputs": [],
   "source": [
    "fin_year=data['financial_year']\n",
    "efficiency=pd.concat([df['efficiency'], pd.DataFrame(efficiency_predictions[4])], axis=0)\n",
    "efficiency=efficiency.reset_index()\n",
    "\n",
    "#display\n",
    "print('Financial year\\tEfficiency')\n",
    "for i in range(len(fin_year)):\n",
    "    print(fin_year[i],'\\t',efficiency[0][i])\n",
    "\n",
    "#plot\n",
    "plt.figure(figsize=(12, 6))\n",
    "plt.plot(fin_year, efficiency[0], marker='o')\n",
    "plt.xlabel('Financial year')\n",
    "plt.ylabel('Efficiency')\n",
    "plt.title('Efficiency over years')\n",
    "plt.grid()\n",
    "plt.show()"
   ]
  },
  {
   "cell_type": "markdown",
   "id": "d47b1130-e21b-42dd-a80b-f5c040728ad9",
   "metadata": {},
   "source": [
    "**Calculation of future values**"
   ]
  },
  {
   "cell_type": "code",
   "execution_count": null,
   "id": "1e419125-7980-43fb-b094-5a1def339db3",
   "metadata": {},
   "outputs": [],
   "source": [
    "booked_test=data['booked'][9:15].reset_index()\n",
    "\n",
    "inhouse_smh_predicted = (booked_test['booked'] * efficiency_svr_test) / 100\n",
    "inhouse_smh_predicted = inhouse_smh_predicted.reset_index()\n",
    "inhouse_smh_predicted.columns=['index', 'smh']"
   ]
  },
  {
   "cell_type": "code",
   "execution_count": null,
   "id": "04d12a5d-d3a6-4468-aea1-7c4593baf44f",
   "metadata": {},
   "outputs": [],
   "source": [
    "print('Prediction on future data')\n",
    "print('Financial year\\tMan power\\tEfficiency\\tInhouse SMH\\t\\tBooked')\n",
    "for i in range(len(manpower_test)):\n",
    "    print(financial_year_test['financial_year'][i],'\\t',*manpower_test[i],'\\t',efficiency_svr_test[i],'\\t',inhouse_smh_predicted['smh'][i],'\\t',booked_test['booked'][i])\n"
   ]
  },
  {
   "cell_type": "markdown",
   "id": "f6f270ce-743c-4d3d-bcf3-4d7d536bd3d1",
   "metadata": {},
   "source": [
    "**Overall Data**"
   ]
  },
  {
   "cell_type": "code",
   "execution_count": null,
   "id": "dd186a51-fe65-4263-9379-fd04e61c41dd",
   "metadata": {},
   "outputs": [],
   "source": [
    "manpower=data['man_power']\n",
    "\n",
    "inhouse_smh=pd.concat([pd.DataFrame({'smh':df['inhouse_smh']}), pd.DataFrame(inhouse_smh_predicted['smh'])], axis=0)\n",
    "inhouse_smh=inhouse_smh.reset_index()\n",
    "\n",
    "print('Financial year\\tMan Power\\tEfficiency\\tInnhouse SMH')\n",
    "for i in range(len(manpower)):\n",
    "    print(fin_year[i], '\\t\\t', manpower[i], '\\t\\t', efficiency[0][i], '\\t\\t\\t', inhouse_smh['smh'][i], sep='')"
   ]
  },
  {
   "cell_type": "code",
   "execution_count": null,
   "id": "ada29b4e-9244-494e-b323-71b31f72412b",
   "metadata": {},
   "outputs": [],
   "source": [
    "#plot(financial year vs inhouse smh)\n",
    "\n",
    "plt.figure(figsize=(12, 6))\n",
    "plt.plot(fin_year, inhouse_smh['smh'], marker='o')\n",
    "plt.xlabel('Financial Year')\n",
    "plt.ylabel('Inhouse SMH')\n",
    "plt.title('Inhouse SMH over years')\n",
    "plt.grid()\n",
    "plt.show()"
   ]
  },
  {
   "cell_type": "code",
   "execution_count": null,
   "id": "0ddba577-96e0-4355-9da1-dd0dfbd2d8f8",
   "metadata": {},
   "outputs": [],
   "source": [
    "#plot(manpower vs inhouse_smh)\n",
    "\n",
    "plt.figure(figsize=(12, 6))\n",
    "plt.plot(manpower, inhouse_smh['smh'], marker='o')\n",
    "plt.xlabel('Manpower')\n",
    "plt.ylabel('Inhouse SMH')\n",
    "plt.title('Inhouse SMH over Man power')\n",
    "plt.grid()\n",
    "plt.show()"
   ]
  },
  {
   "cell_type": "markdown",
   "id": "581e3e5f-2b63-4c2c-b195-c8e33070deb2",
   "metadata": {
    "jp-MarkdownHeadingCollapsed": true
   },
   "source": [
    "# EDA"
   ]
  },
  {
   "cell_type": "code",
   "execution_count": null,
   "id": "17746889-4f20-4ac6-90d4-041625c92628",
   "metadata": {},
   "outputs": [],
   "source": [
    "import seaborn as sns\n",
    "sns.pairplot(df[['sales','dispatch_smh','inhouse_smh','outsourced_smh']])\n"
   ]
  },
  {
   "cell_type": "markdown",
   "id": "d942ebe7-ea1e-43fc-b7ea-09c05e8124bd",
   "metadata": {},
   "source": [
    "# Prediction of dispatch smh based on the sales "
   ]
  },
  {
   "cell_type": "code",
   "execution_count": null,
   "id": "9d5a06be-abea-4495-8d47-954cefcd4d7c",
   "metadata": {},
   "outputs": [],
   "source": [
    "sales_train=df['sales'].values.reshape(-1,1)\n",
    "dispatch_smh_train=df['dispatch_smh'].values"
   ]
  },
  {
   "cell_type": "markdown",
   "id": "a6657f4b-e2b4-4b5c-8a56-deb00377f857",
   "metadata": {},
   "source": [
    "**Various Models**"
   ]
  },
  {
   "cell_type": "code",
   "execution_count": null,
   "id": "b3147699-6d8e-496a-a822-d37ff8e74c52",
   "metadata": {},
   "outputs": [],
   "source": [
    "def models_for_dispatch_smh(model_name, model):\n",
    "  print('\\n',model_name, sep='')\n",
    "\n",
    "  #model building\n",
    "  model.fit(sales_train, dispatch_smh_train)\n",
    "\n",
    "  #prediction on train data\n",
    "  dispatch_smh_train_predict=model.predict(sales_train)\n",
    "  print('On train dataset (Actual vs Predict)')\n",
    "  print('Actual\\t\\tPredict')\n",
    "  for i in range(len(sales_train)):\n",
    "    print(f'{dispatch_smh_train[i]}\\t{dispatch_smh_train_predict[i]}')\n",
    "\n",
    "  #mse\n",
    "  mse=mean_squared_error(dispatch_smh_train, dispatch_smh_train_predict)\n",
    "  print(f'\\nMSE: {mse:.2f}\\n')\n",
    "\n",
    "  #plot\n",
    "  plt.plot(sales_train, dispatch_smh_train, color='blue', label='Actual')\n",
    "  plt.plot(sales_train, dispatch_smh_train_predict, color='red', label='Predict')\n",
    "  plt.xlabel('sales')\n",
    "  plt.ylabel('dispatch smh')\n",
    "  plt.show()\n",
    "\n",
    "  #prediction on unseen data\n",
    "  sales_test=data['sales'][9:15].values.reshape(-1,1)\n",
    "\n",
    "  dispatch_smh_predict_test=model.predict(sales_test)\n",
    "  print('\\nPrediction on future data')\n",
    "  print('Sales\\t\\tDispatch SMH')\n",
    "  for i in range(len(sales_test)):\n",
    "    print(*sales_test[i],'\\t\\t',dispatch_smh_predict_test[i])\n",
    "\n",
    "models={\n",
    "    'LINEAR REGRESSION':LinearRegression(),\n",
    "    'DECISION TREE REGRESSION':DecisionTreeRegressor(),\n",
    "    'RANDOM FOREST REGRESSION':RandomForestRegressor(n_estimators=100, max_depth=4),\n",
    "    'GRADIENT BOOSTING REGRESSION':GradientBoostingRegressor(n_estimators=100, max_depth=4),\n",
    "    'SUPPORT VECTOR REGRESSION':SVR(kernel='linear', C=1.0, epsilon=0.1)\n",
    "}\n",
    "\n",
    "for model_name, model in models.items():\n",
    "  models_for_dispatch_smh(model_name, model)\n",
    "\n"
   ]
  },
  {
   "cell_type": "markdown",
   "id": "a5a58a6a-9aae-409f-8b16-83cdcd55873b",
   "metadata": {},
   "source": [
    "**Final Model: Polynomial Regression**"
   ]
  },
  {
   "cell_type": "code",
   "execution_count": null,
   "id": "5a924230-14d5-4d02-8e62-c63057dcc135",
   "metadata": {},
   "outputs": [],
   "source": [
    "poly_dispatch=PolynomialFeatures(degree=2)\n",
    "sales_train_poly=poly_dispatch.fit_transform(sales_train)\n",
    "\n",
    "dispatch_model_poly=LinearRegression()\n",
    "dispatch_model_poly.fit(sales_train_poly,dispatch_smh_train)\n",
    "\n",
    "#dispatch predicted on training sales data\n",
    "dispatch_train_predict_poly=dispatch_model_poly.predict(sales_train_poly)\n",
    "print('Predicted dispatch values for training sales data:')\n",
    "print(dispatch_train_predict_poly)\n",
    "\n",
    "#mean squared error\n",
    "mean_squared_error_dispatch_poly=mean_squared_error(dispatch_smh_train,dispatch_train_predict_poly)\n",
    "print('Mean_squared_error=',mean_squared_error_dispatch_poly)\n",
    "\n",
    "plt.plot(sales_train,dispatch_smh_train, color='blue', label='Actual')\n",
    "plt.plot(sales_train,dispatch_train_predict_poly, color='red', label='predicted')\n",
    "plt.xlabel('sales')\n",
    "plt.ylabel('dispatch_smh')\n",
    "plt.show()\n",
    "\n",
    "\n",
    "#dispatch prediction for future-unseeen sales data\n",
    "sales_test=data['sales'][9:15].values.reshape(-1,1)\n",
    "sales_test_poly=poly_dispatch.transform(sales_test)\n",
    "\n",
    "dispatch_smh_predicted_poly=dispatch_model_poly.predict(sales_test_poly)\n",
    "\n",
    "print(\"Dispatch smh predicted for future-unseen data:\")\n",
    "print('Sales\\t\\tDispatch_smh')\n",
    "for i in range(len(sales_test)):\n",
    "    print(*sales_test[i],'\\t',dispatch_smh_predicted_poly[i])\n"
   ]
  },
  {
   "cell_type": "code",
   "execution_count": null,
   "id": "54aae1be-751e-4fe8-95c0-29ee78ebbf2c",
   "metadata": {},
   "outputs": [],
   "source": [
    "sales=data['sales']\n",
    "dispatch_smh=pd.concat([df['dispatch_smh'],pd.DataFrame(dispatch_smh_predicted_poly)]).reset_index()\n",
    "\n",
    "print('Financial Year\\tSales\\tDispatch SMH')\n",
    "for i in range(len(sales)):\n",
    "    print(fin_year[i],'\\t',sales[i],'\\t',dispatch_smh[0][i])"
   ]
  },
  {
   "cell_type": "code",
   "execution_count": null,
   "id": "9ee2375d-e57b-4974-9163-a83dcda71418",
   "metadata": {},
   "outputs": [],
   "source": [
    "#plotting dispatch smh over years \n",
    "plt.figure(figsize=(12, 6))\n",
    "plt.plot(fin_year,dispatch_smh[0],marker='o')\n",
    "plt.xlabel('Financial Years')\n",
    "plt.ylabel('Dispatch SMH')\n",
    "plt.title('Dispatch SMH over years')\n",
    "plt.grid()\n",
    "plt.show()"
   ]
  },
  {
   "cell_type": "code",
   "execution_count": null,
   "id": "b228f9aa-baea-46f7-8c42-96f1348164d9",
   "metadata": {},
   "outputs": [],
   "source": [
    "#plotting dispatch smh over Sales\n",
    "plt.figure(figsize=(12, 6))\n",
    "plt.plot(sales,dispatch_smh[0],marker='o')\n",
    "plt.xlabel('Sales')\n",
    "plt.ylabel('Dispatch SMH')\n",
    "plt.title('Dispatch SMH over Sales')\n",
    "plt.grid()\n",
    "plt.show()"
   ]
  },
  {
   "cell_type": "markdown",
   "id": "36628bd6-c216-49cb-838e-9d2d2d156c10",
   "metadata": {},
   "source": [
    "# Prediction of outsorced smh"
   ]
  },
  {
   "cell_type": "code",
   "execution_count": null,
   "id": "3a27f5ee-50cb-4e23-b048-3dc29e59775b",
   "metadata": {},
   "outputs": [],
   "source": [
    "x_train=df['inhouse_smh'].values.reshape(-1,1)\n",
    "outsourced_smh_train=df['outsourced_smh'].values"
   ]
  },
  {
   "cell_type": "markdown",
   "id": "b8f271ea-db8d-4d8f-b570-11abdba6dac5",
   "metadata": {},
   "source": [
    "**Possible dependencies of Outsourced SMH with other features of the data**"
   ]
  },
  {
   "cell_type": "code",
   "execution_count": null,
   "id": "d7ec3a49-b93f-4a68-b8d0-dae72861e6e5",
   "metadata": {},
   "outputs": [],
   "source": [
    "x1_train=df[['inhouse_smh','dispatch_smh']]\n",
    "x2_train=df[['inhouse_smh','dispatch_smh','sales']]\n",
    "x3_train=df[['dispatch_smh','sales']]\n",
    "x4_train=df[['dispatch_smh']]\n",
    "x5_train=df[['sales']]\n",
    "x6_train=df[['inhouse_smh']]\n",
    "x7_train=df[['inhouse_smh', 'sales']]"
   ]
  },
  {
   "cell_type": "code",
   "execution_count": null,
   "id": "0cb4a881-0d01-4ce3-af92-0e93b9f21ea9",
   "metadata": {},
   "outputs": [],
   "source": [
    "sales=data['sales'][9:15].reset_index()\n",
    "x1_test=pd.DataFrame({\n",
    "    'inhouse_smh' : inhouse_smh_predicted['smh'],\n",
    "    'dispatch_smh' :  dispatch_smh_predicted_poly\n",
    "})\n",
    "x2_test=pd.DataFrame({\n",
    "    'inhouse_smh' : inhouse_smh_predicted['smh'],\n",
    "    'dispatch_smh' :  dispatch_smh_predicted_poly,\n",
    "    'sales': sales['sales']\n",
    "})\n",
    "x3_test=pd.DataFrame({\n",
    "    'dispatch_smh' :  dispatch_smh_predicted_poly,\n",
    "    'sales': sales['sales']\n",
    "})\n",
    "x4_test=pd.DataFrame({\n",
    "    'dispatch_smh' :  dispatch_smh_predicted_poly\n",
    "})\n",
    "x5_test=pd.DataFrame({\n",
    "    'sales': sales['sales']\n",
    "})\n",
    "x6_test=pd.DataFrame({\n",
    "    'inhouse_smh' : inhouse_smh_predicted['smh']\n",
    "})\n",
    "x7_test=pd.DataFrame({\n",
    "    'inhouse_smh' : inhouse_smh_predicted['smh'],\n",
    "    'sales': sales['sales']\n",
    "})"
   ]
  },
  {
   "cell_type": "code",
   "execution_count": null,
   "id": "bb987341-a1e1-4ad5-a569-07b916fe058b",
   "metadata": {},
   "outputs": [],
   "source": [
    "def poly_reg(i, x_train, x_test):\n",
    "    print('COMBO', i+1)\n",
    "    #model\n",
    "    poly=PolynomialFeatures(degree=2)\n",
    "    x_train_poly=poly.fit_transform(x_train)\n",
    "    model=LinearRegression()\n",
    "    model.fit(x_train_poly,outsourced_smh_train)\n",
    "\n",
    "    #prediction on train data\n",
    "    outsourced_smh_train_pred=model.predict(x_train_poly)\n",
    "    print(\"predicted outsourced smh for training data:\")\n",
    "    print('Actual outsourced smh \\t \\t predicted outsourced smh')\n",
    "    for j in range(len(x_train)):\n",
    "        print(outsourced_smh_train[j],'\\t\\t', outsourced_smh_train_pred[j])\n",
    "\n",
    "    #mse\n",
    "    mse=mean_squared_error(outsourced_smh_train, outsourced_smh_train_pred)\n",
    "    print('mse:',mse)\n",
    "       \n",
    "    #plot\n",
    "    plt.figure(figsize=(10, 6))\n",
    "    plt.plot(range(len(outsourced_smh_train)), outsourced_smh_train, color='blue', label='Actual')\n",
    "    plt.plot(range(len(outsourced_smh_train)), outsourced_smh_train_pred, color='red', label='Predict')\n",
    "    plt.title('Actual vs Predicted Outsourced SMH')\n",
    "    plt.xlabel('Index')\n",
    "    plt.ylabel('Outsourced SMH')\n",
    "    plt.legend()\n",
    "    plt.show()\n",
    "\n",
    "    #prediction on unseen data\n",
    "    x_test_poly=poly.transform(x_test)\n",
    "    outsourced_smh_test_pred=model.predict(x_test_poly)\n",
    "    print(\"Prediction on unseen data\")\n",
    "    for j in outsourced_smh_test_pred:\n",
    "        print(j)\n",
    "    print('\\n\\n')\n",
    "    \n",
    "    if i+1==6:\n",
    "        return outsourced_smh_test_pred\n",
    "    \n",
    "    \n",
    "        \n",
    "inputs_train=[x1_train,x2_train,x3_train,x4_train,x5_train,x6_train,x7_train]\n",
    "inputs_test=[x1_test, x2_test, x3_test, x4_test, x5_test, x6_test,x7_test]\n",
    "for i in range(len(inputs_train)):\n",
    "    if i+1==6:\n",
    "        outsourced_smh_pred_poly=poly_reg(i, inputs_train[i], inputs_test[i])\n",
    "    else:\n",
    "        poly_reg(i, inputs_train[i], inputs_test[i])"
   ]
  },
  {
   "cell_type": "markdown",
   "id": "cb661eba-4dcb-4530-97fc-56450aa59073",
   "metadata": {},
   "source": [
    "**Various Models on the basis of inhouse dependency**"
   ]
  },
  {
   "cell_type": "code",
   "execution_count": null,
   "id": "dfdda40a-ef32-4443-b9fe-b286d4988db1",
   "metadata": {},
   "outputs": [],
   "source": [
    "def models_for_outsourced_smh(model_name, model):\n",
    "  print('\\n',model_name, sep='')\n",
    "\n",
    "  #model building\n",
    "  model.fit(x_train, outsourced_smh_train)\n",
    "\n",
    "  #prediction on train data\n",
    "  outsourced_smh_train_pred=model.predict(x_train)\n",
    "  print('On train dataset (Actual vs Predict)')\n",
    "  print('Actual\\t\\tPredict')\n",
    "  for i in range(len(outsourced_smh_train)):\n",
    "    print(f'{outsourced_smh_train[i]}\\t{outsourced_smh_train_pred[i]}')\n",
    "\n",
    "  #mse\n",
    "  mse=mean_squared_error(outsourced_smh_train, outsourced_smh_train_pred)\n",
    "  print(f'\\nMSE: {mse:.2f}\\n')\n",
    "\n",
    "  #plot\n",
    "  plt.figure(figsize=(10, 6))\n",
    "  plt.plot(range(len(outsourced_smh_train)), outsourced_smh_train, color='blue', label='Actual')\n",
    "  plt.plot(range(len(outsourced_smh_train)), outsourced_smh_train_pred, color='red', label='Predict')\n",
    "  plt.title('Actual vs Predicted Outsourced SMH')\n",
    "  plt.xlabel('Index')\n",
    "  plt.ylabel('Outsourced SMH')\n",
    "  plt.legend()\n",
    "  plt.show()\n",
    "\n",
    "  #prediction on unseen data\n",
    "\n",
    "  x_test=pd.DataFrame({\n",
    "    'inhouse_smh' : inhouse_smh_predicted['smh'],\n",
    "    })\n",
    "\n",
    "  outsourced_smh_test_pred=model.predict(x_test)\n",
    "\n",
    "  print('\\nPredicted outsourced smh for unseen data')\n",
    "  print('Inhouse SMH\\t\\tOutsourced SMH')\n",
    "  for i in range(len(x_test)):\n",
    "    print(x_test['inhouse_smh'][i],'\\t',outsourced_smh_test_pred[i])\n",
    "\n",
    "models={\n",
    "    'LINEAR REGRESSION':LinearRegression(),\n",
    "    'DECISION TREE REGRESSION':DecisionTreeRegressor(),\n",
    "    'RANDOM FOREST REGRESSION':RandomForestRegressor(n_estimators=100, max_depth=4),\n",
    "    'GRADIENT BOOSTING REGRESSION':GradientBoostingRegressor(n_estimators=100, max_depth=4),\n",
    "    'SUPPORT VECTOR REGRESSION':SVR(kernel='linear', C=1.0, epsilon=0.1)\n",
    "}\n",
    "\n",
    "for model_name, model in models.items():\n",
    "  models_for_outsourced_smh(model_name, model)\n",
    "\n",
    "\n",
    "\n",
    "\n"
   ]
  },
  {
   "cell_type": "markdown",
   "id": "a1d40dbc-bb8c-4571-9e1b-f054bc2b5360",
   "metadata": {},
   "source": [
    "**Final Model: Polynomial Regression with inhouse dependency**"
   ]
  },
  {
   "cell_type": "code",
   "execution_count": null,
   "id": "13675880-3f7a-44bb-a4a5-6ff5842e62a5",
   "metadata": {},
   "outputs": [],
   "source": [
    "outsourced_smh=pd.concat([df['outsourced_smh'], pd.DataFrame(outsourced_smh_pred_poly)], axis=0).reset_index()\n",
    "\n",
    "print('Financial year\\tInhouse SMH\\tOutsoured SMH')\n",
    "for i in range(len(fin_year)):\n",
    "    print(fin_year[i], '\\t',  inhouse_smh['smh'][i], '\\t', outsourced_smh[0][i])"
   ]
  },
  {
   "cell_type": "code",
   "execution_count": null,
   "id": "3fb67a1d-53bb-434d-94bc-ef0056d4f039",
   "metadata": {},
   "outputs": [],
   "source": [
    "#plotting OutSourced smh over years \n",
    "plt.figure(figsize=(12, 6))\n",
    "plt.plot(fin_year,outsourced_smh[0],marker='o')\n",
    "plt.xlabel('Financial Years')\n",
    "plt.ylabel('Outsourced SMH')\n",
    "plt.title('Outsourced SMH over years')\n",
    "plt.grid()\n",
    "plt.show()"
   ]
  },
  {
   "cell_type": "code",
   "execution_count": null,
   "id": "2509aa31-3b0f-4b16-8082-4cd5b6a2a558",
   "metadata": {},
   "outputs": [],
   "source": []
  }
 ],
 "metadata": {
  "kernelspec": {
   "display_name": "Python 3 (ipykernel)",
   "language": "python",
   "name": "python3"
  },
  "language_info": {
   "codemirror_mode": {
    "name": "ipython",
    "version": 3
   },
   "file_extension": ".py",
   "mimetype": "text/x-python",
   "name": "python",
   "nbconvert_exporter": "python",
   "pygments_lexer": "ipython3",
   "version": "3.11.7"
  }
 },
 "nbformat": 4,
 "nbformat_minor": 5
}
