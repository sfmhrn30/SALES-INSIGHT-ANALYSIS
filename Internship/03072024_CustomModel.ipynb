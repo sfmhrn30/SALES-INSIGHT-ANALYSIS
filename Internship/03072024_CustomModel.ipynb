{
 "cells": [
  {
   "cell_type": "markdown",
   "id": "79868fff-31fd-4b7a-bc9f-9737119c8127",
   "metadata": {},
   "source": [
    "# Data loading and Preprocessing"
   ]
  },
  {
   "cell_type": "code",
   "execution_count": null,
   "id": "6f842bb7-d7ad-40a1-bec4-363321be27e4",
   "metadata": {},
   "outputs": [],
   "source": [
    "#import necessary libraries\n",
    "\n",
    "import pandas as pd\n",
    "import numpy as np"
   ]
  },
  {
   "cell_type": "code",
   "execution_count": null,
   "id": "6d7fd084-308c-44c7-bd9b-fc019b12b87a",
   "metadata": {},
   "outputs": [],
   "source": [
    "data=pd.read_csv('datasets copies/DispatchSummary.csv')"
   ]
  },
  {
   "cell_type": "code",
   "execution_count": null,
   "id": "afdca20d-cf0e-4733-a7b0-94bdaf1533a0",
   "metadata": {},
   "outputs": [],
   "source": [
    "data.columns"
   ]
  },
  {
   "cell_type": "code",
   "execution_count": null,
   "id": "46be5ecb-1a4f-4f71-a014-d0ced747ec5c",
   "metadata": {},
   "outputs": [],
   "source": [
    "data.columns=['financial_year', 'sales', 'man_power', 'available_hours', 'inc_smh', 'efficiency', 'smh', 'booked', 'smh_lacs']"
   ]
  },
  {
   "cell_type": "code",
   "execution_count": null,
   "id": "69911f66-dc32-486c-913e-9a908215cf21",
   "metadata": {},
   "outputs": [],
   "source": [
    "data.columns"
   ]
  },
  {
   "cell_type": "code",
   "execution_count": null,
   "id": "fb2e98d7-d147-4356-bc2f-69c167c5a676",
   "metadata": {},
   "outputs": [],
   "source": [
    "dataDic={}\n",
    "dataDic['financial_year']=data['financial_year'][0:9]\n",
    "dataDic['sales']=data['sales'][0:9]\n",
    "dataDic['man_power']=data['man_power'][0:9]\n",
    "dataDic['efficiency']=data['efficiency'][0:9]\n",
    "dataDic['booked']=data['booked'][0:9]\n",
    "dataDic['dispatch_smh']=data['inc_smh'][0:9]\n",
    "dataDic['inhouse_smh']=data['smh'][0:9]\n",
    "dataDic['outsourced_smh']=data['smh_lacs'][0:9]\n",
    "\n",
    "print(dataDic)"
   ]
  },
  {
   "cell_type": "code",
   "execution_count": null,
   "id": "38a395ad-0ad2-40d8-b9ae-8c958daf21f1",
   "metadata": {},
   "outputs": [],
   "source": [
    "df=pd.DataFrame(dataDic)\n",
    "print(df)"
   ]
  },
  {
   "cell_type": "markdown",
   "id": "6d022645-dd1d-4d66-9830-d50604991e11",
   "metadata": {},
   "source": [
    "# Efficiency Prediction"
   ]
  },
  {
   "cell_type": "code",
   "execution_count": null,
   "id": "fc9e96ed-e45d-425e-8fdf-18899a4e16fd",
   "metadata": {},
   "outputs": [],
   "source": [
    "k=len(data['efficiency'].dropna())"
   ]
  },
  {
   "cell_type": "code",
   "execution_count": null,
   "id": "74dd3543-2911-4142-b7b9-57d242fc9c6c",
   "metadata": {},
   "outputs": [],
   "source": [
    "def efficiency_custom(t,n,last_year):\n",
    "    eff_fut=[last_year]\n",
    "    for i in range(t):\n",
    "        temp=eff_fut[-1]+eff_fut[-1]*(n/100)\n",
    "        eff_fut.append(temp)\n",
    "    return eff_fut[1:]\n",
    "\n",
    "t=int(input('enter the number of future values to be calculated:'))\n",
    "n=int(input('Enter the rate of increase (%):'))\n",
    "last_year=data['efficiency'][k-1]\n",
    "fut_efficiency=efficiency_custom(t,n,last_year)"
   ]
  },
  {
   "cell_type": "code",
   "execution_count": null,
   "id": "75618ef3-86aa-4688-afaa-fe094f325a38",
   "metadata": {},
   "outputs": [],
   "source": [
    "#plot(manpower vs efficiency)\n",
    "import matplotlib.pyplot as plt\n",
    "efficiency=pd.concat([df['efficiency'],pd.DataFrame(fut_efficiency)],axis=0).reset_index()\n",
    "manpower=data['man_power']\n",
    "fin_year=data['financial_year']\n",
    "\n",
    "\n",
    "plt.figure(figsize=(12, 6))\n",
    "plt.plot(fin_year, efficiency[0], marker='o')\n",
    "plt.xlabel('Financial year')\n",
    "plt.ylabel('Efficiency')\n",
    "plt.title('Efficiency over years')\n",
    "plt.grid()\n",
    "plt.show()\n",
    "\n"
   ]
  },
  {
   "cell_type": "code",
   "execution_count": null,
   "id": "88daca41-f7f7-4e62-b285-e8139cd67440",
   "metadata": {},
   "outputs": [],
   "source": [
    "\n",
    "plt.figure(figsize=(12, 6))\n",
    "plt.plot(manpower, efficiency[0], marker='o')\n",
    "plt.xlabel('Manpower')\n",
    "plt.ylabel('Efficiency')\n",
    "plt.title('Efficiency over Man power')\n",
    "plt.grid()\n",
    "plt.show()"
   ]
  },
  {
   "cell_type": "markdown",
   "id": "a8899cf2-a7d8-468c-83e9-c794b8f709af",
   "metadata": {},
   "source": [
    "# Inhouse smh "
   ]
  },
  {
   "cell_type": "code",
   "execution_count": null,
   "id": "2bfe09b4-6bad-405c-9569-c04bb0757376",
   "metadata": {},
   "outputs": [],
   "source": [
    "booked_test=data['booked'][9:15].reset_index()\n",
    "financial_year_test=data['financial_year'][9:15].reset_index()\n",
    "\n",
    "inhouse_smh_predicted = (booked_test['booked'] * fut_efficiency) / 100\n",
    "inhouse_smh_predicted = inhouse_smh_predicted.reset_index()\n",
    "inhouse_smh_predicted.columns=['index', 'smh']"
   ]
  },
  {
   "cell_type": "code",
   "execution_count": null,
   "id": "e984eb94-e4a0-46f6-b546-31f52be474e2",
   "metadata": {},
   "outputs": [],
   "source": [
    "print('Prediction on future data')\n",
    "print('Financial year\\tEfficiency\\tInhouse SMH\\t\\tBooked')\n",
    "for i in range(len(booked_test)):\n",
    "    print(financial_year_test['financial_year'][i],'\\t',fut_efficiency[i],'\\t',inhouse_smh_predicted['smh'][i],'\\t',booked_test['booked'][i])\n"
   ]
  },
  {
   "cell_type": "markdown",
   "id": "e61f432a-df71-47cc-a0bb-9c96eea2f2c3",
   "metadata": {},
   "source": [
    "**Overall Data**"
   ]
  },
  {
   "cell_type": "code",
   "execution_count": null,
   "id": "893d5a48-f5ff-4970-845f-a95663baf5b5",
   "metadata": {},
   "outputs": [],
   "source": [
    "manpower=data['man_power']\n",
    "fin_year=data['financial_year']\n",
    "\n",
    "inhouse_smh=pd.concat([pd.DataFrame({'smh':df['inhouse_smh']}), pd.DataFrame(inhouse_smh_predicted['smh'])], axis=0)\n",
    "inhouse_smh=inhouse_smh.reset_index()\n",
    "\n",
    "print('Financial year\\tMan Power\\tEfficiency\\tInnhouse SMH')\n",
    "for i in range(len(manpower)):\n",
    "    print(fin_year[i], '\\t\\t', manpower[i], '\\t\\t', efficiency[0][i], '\\t\\t\\t', inhouse_smh['smh'][i], sep='')"
   ]
  },
  {
   "cell_type": "code",
   "execution_count": null,
   "id": "9bb1d3ec-824e-48b3-942d-7a4e7f7825ac",
   "metadata": {},
   "outputs": [],
   "source": [
    "#plot(financial year vs inhouse smh)\n",
    "\n",
    "plt.figure(figsize=(12, 6))\n",
    "plt.plot(fin_year, inhouse_smh['smh'], marker='o')\n",
    "plt.xlabel('Financial Year')\n",
    "plt.ylabel('Inhouse SMH')\n",
    "plt.title('Inhouse SMH over years')\n",
    "plt.grid()\n",
    "plt.show()"
   ]
  },
  {
   "cell_type": "code",
   "execution_count": null,
   "id": "6ca0ad86-c4b2-495f-886a-55a62a7dbd5c",
   "metadata": {},
   "outputs": [],
   "source": [
    "manpower_train=df['man_power'].values.reshape(-1,1)\n",
    "efficiency_train=df['efficiency'].values"
   ]
  },
  {
   "cell_type": "markdown",
   "id": "d942ebe7-ea1e-43fc-b7ea-09c05e8124bd",
   "metadata": {},
   "source": [
    "# Dispatch smh "
   ]
  },
  {
   "cell_type": "code",
   "execution_count": null,
   "id": "ffed321f-f5ab-4be0-854a-b46972c21bfb",
   "metadata": {},
   "outputs": [],
   "source": [
    "from sklearn.linear_model import LinearRegression\n",
    "from sklearn.metrics import mean_squared_error\n",
    "import matplotlib.pyplot as plt\n",
    "from sklearn.preprocessing import PolynomialFeatures"
   ]
  },
  {
   "cell_type": "code",
   "execution_count": null,
   "id": "9d5a06be-abea-4495-8d47-954cefcd4d7c",
   "metadata": {},
   "outputs": [],
   "source": [
    "sales_train=df['sales'].values.reshape(-1,1)\n",
    "dispatch_smh_train=df['dispatch_smh'].values"
   ]
  },
  {
   "cell_type": "markdown",
   "id": "a5a58a6a-9aae-409f-8b16-83cdcd55873b",
   "metadata": {},
   "source": [
    "**Final Model: Polynomial Regression**"
   ]
  },
  {
   "cell_type": "code",
   "execution_count": null,
   "id": "5a924230-14d5-4d02-8e62-c63057dcc135",
   "metadata": {},
   "outputs": [],
   "source": [
    "poly_dispatch=PolynomialFeatures(degree=2)\n",
    "sales_train_poly=poly_dispatch.fit_transform(sales_train)\n",
    "\n",
    "dispatch_model_poly=LinearRegression()\n",
    "dispatch_model_poly.fit(sales_train_poly,dispatch_smh_train)\n",
    "\n",
    "#dispatch predicted on training sales data\n",
    "dispatch_train_predict_poly=dispatch_model_poly.predict(sales_train_poly)\n",
    "print('Predicted dispatch values for training sales data:')\n",
    "print(dispatch_train_predict_poly)\n",
    "\n",
    "#mean squared error\n",
    "mean_squared_error_dispatch_poly=mean_squared_error(dispatch_smh_train,dispatch_train_predict_poly)\n",
    "print('Mean_squared_error=',mean_squared_error_dispatch_poly)\n",
    "\n",
    "plt.plot(sales_train,dispatch_smh_train, color='blue', label='Actual')\n",
    "plt.plot(sales_train,dispatch_train_predict_poly, color='red', label='predicted')\n",
    "plt.xlabel('sales')\n",
    "plt.ylabel('dispatch_smh')\n",
    "plt.show()\n",
    "\n",
    "\n",
    "#dispatch prediction for future-unseeen sales data\n",
    "sales_test=data['sales'][9:15].values.reshape(-1,1)\n",
    "sales_test_poly=poly_dispatch.transform(sales_test)\n",
    "\n",
    "dispatch_smh_predicted_poly=dispatch_model_poly.predict(sales_test_poly)\n",
    "\n",
    "print(\"Dispatch smh predicted for future-unseen data:\")\n",
    "print('Sales\\t\\tDispatch_smh')\n",
    "for i in range(len(sales_test)):\n",
    "    print(*sales_test[i],'\\t',dispatch_smh_predicted_poly[i])\n"
   ]
  },
  {
   "cell_type": "code",
   "execution_count": null,
   "id": "17ff0a67-4bbe-4165-98af-1590af6c338f",
   "metadata": {},
   "outputs": [],
   "source": [
    "from decimal import Decimal, ROUND_DOWN\n",
    "\n",
    "for i in range(6):\n",
    "    value=Decimal(dispatch_smh_predicted_poly[i])\n",
    "    dispatch_smh_predicted_poly[i]=value.quantize(Decimal('0.01'), rounding=ROUND_DOWN)\n",
    "print(dispatch_smh_predicted_poly)"
   ]
  },
  {
   "cell_type": "code",
   "execution_count": null,
   "id": "5827e9e0-4153-42af-ade1-668048cf4d97",
   "metadata": {},
   "outputs": [],
   "source": [
    "import pickle\n",
    "\n",
    "pickle.dump(poly_dispatch, open('dispatchPolyModel.pkl' ,'wb'))\n",
    "pickle.dump(dispatch_model_poly, open('dispatchModel.pkl' ,'wb'))"
   ]
  },
  {
   "cell_type": "code",
   "execution_count": null,
   "id": "54aae1be-751e-4fe8-95c0-29ee78ebbf2c",
   "metadata": {},
   "outputs": [],
   "source": [
    "sales=data['sales']\n",
    "dispatch_smh=pd.concat([df['dispatch_smh'],pd.DataFrame(dispatch_smh_predicted_poly)]).reset_index()\n",
    "\n",
    "print('Financial Year\\tSales\\tDispatch SMH')\n",
    "for i in range(len(sales)):\n",
    "    print(fin_year[i],'\\t',sales[i],'\\t',dispatch_smh[0][i])"
   ]
  },
  {
   "cell_type": "code",
   "execution_count": null,
   "id": "b8f91af1-3858-4c3c-ad5d-6d22e9c2e8a1",
   "metadata": {},
   "outputs": [],
   "source": [
    "predefinedValues = pd.DataFrame({\n",
    "    'financial_year' : data['financial_year'][9:15],\n",
    "    'sales' : data['sales'][9:15],\n",
    "    'booked' : data['booked'][9:15],\n",
    "    'man_power' : data['man_power'][9:15],\n",
    "    'dispatch_smh' : dispatch_smh_predicted_poly\n",
    "})"
   ]
  },
  {
   "cell_type": "code",
   "execution_count": null,
   "id": "dc38290f-cc07-44d0-a1bc-be8b7e2843c0",
   "metadata": {},
   "outputs": [],
   "source": [
    "import pickle\n",
    "\n",
    "pickle.dump(predefinedValues, open('dispatchPredictValues.pkl', 'wb'))"
   ]
  },
  {
   "cell_type": "code",
   "execution_count": null,
   "id": "9ee2375d-e57b-4974-9163-a83dcda71418",
   "metadata": {},
   "outputs": [],
   "source": [
    "#plotting dispatch smh over years \n",
    "plt.figure(figsize=(12, 6))\n",
    "plt.plot(fin_year,dispatch_smh[0],marker='o')\n",
    "plt.xlabel('Financial Years')\n",
    "plt.ylabel('Dispatch SMH')\n",
    "plt.title('Dispatch SMH over years')\n",
    "plt.grid()\n",
    "plt.show()"
   ]
  },
  {
   "cell_type": "code",
   "execution_count": null,
   "id": "b228f9aa-baea-46f7-8c42-96f1348164d9",
   "metadata": {},
   "outputs": [],
   "source": [
    "#plotting dispatch smh over Sales\n",
    "plt.figure(figsize=(12, 6))\n",
    "plt.plot(sales,dispatch_smh[0],marker='o')\n",
    "plt.xlabel('Sales')\n",
    "plt.ylabel('Dispatch SMH')\n",
    "plt.title('Dispatch SMH over Sales')\n",
    "plt.grid()\n",
    "plt.show()"
   ]
  },
  {
   "cell_type": "markdown",
   "id": "36628bd6-c216-49cb-838e-9d2d2d156c10",
   "metadata": {},
   "source": [
    "# Outsorced smh"
   ]
  },
  {
   "cell_type": "code",
   "execution_count": null,
   "id": "3a27f5ee-50cb-4e23-b048-3dc29e59775b",
   "metadata": {},
   "outputs": [],
   "source": [
    "x_train=df['inhouse_smh'].values.reshape(-1,1)\n",
    "outsourced_smh_train=df['outsourced_smh'].values"
   ]
  },
  {
   "cell_type": "code",
   "execution_count": null,
   "id": "0cb4a881-0d01-4ce3-af92-0e93b9f21ea9",
   "metadata": {},
   "outputs": [],
   "source": [
    "sales=data['sales'][9:15].reset_index()\n",
    "x_test=pd.DataFrame({\n",
    "    'inhouse_smh' : inhouse_smh_predicted['smh']\n",
    "})"
   ]
  },
  {
   "cell_type": "code",
   "execution_count": null,
   "id": "b75a9646-e2cd-4724-8c09-863293bd0f1d",
   "metadata": {},
   "outputs": [],
   "source": [
    "poly=PolynomialFeatures(degree=2)\n",
    "x_train_poly=poly.fit_transform(x_train)\n",
    "model=LinearRegression()\n",
    "model.fit(x_train_poly,outsourced_smh_train)\n",
    "\n",
    "#prediction on train data\n",
    "outsourced_smh_train_pred=model.predict(x_train_poly)\n",
    "print(\"predicted outsourced smh for training data:\")\n",
    "print('Actual outsourced smh \\t \\t predicted outsourced smh')\n",
    "for j in range(len(x_train)):\n",
    "    print(outsourced_smh_train[j],'\\t\\t', outsourced_smh_train_pred[j])\n",
    "\n",
    "#mse\n",
    "mse=mean_squared_error(outsourced_smh_train, outsourced_smh_train_pred)\n",
    "print('mse:',mse)\n",
    "       \n",
    "#plot\n",
    "plt.figure(figsize=(10, 6))\n",
    "plt.plot(range(len(outsourced_smh_train)), outsourced_smh_train, color='blue', label='Actual')\n",
    "plt.plot(range(len(outsourced_smh_train)), outsourced_smh_train_pred, color='red', label='Predict')\n",
    "plt.title('Actual vs Predicted Outsourced SMH')\n",
    "plt.xlabel('Index')\n",
    "plt.ylabel('Outsourced SMH')\n",
    "plt.legend()\n",
    "plt.show()\n",
    "\n",
    "#prediction on unseen data\n",
    "x_test_poly=poly.transform(x_test)\n",
    "outsourced_smh_test_pred=model.predict(x_test_poly)\n",
    "print(\"Prediction on unseen data\")\n",
    "for j in outsourced_smh_test_pred:\n",
    "    print(j)"
   ]
  },
  {
   "cell_type": "code",
   "execution_count": null,
   "id": "13675880-3f7a-44bb-a4a5-6ff5842e62a5",
   "metadata": {},
   "outputs": [],
   "source": [
    "outsourced_smh=pd.concat([df['outsourced_smh'], pd.DataFrame(outsourced_smh_test_pred)], axis=0).reset_index()\n",
    "\n",
    "print('Financial year\\tInhouse SMH\\tOutsoured SMH')\n",
    "for i in range(len(fin_year)):\n",
    "    print(fin_year[i], '\\t',  inhouse_smh['smh'][i], '\\t', outsourced_smh[0][i])"
   ]
  },
  {
   "cell_type": "code",
   "execution_count": null,
   "id": "3fb67a1d-53bb-434d-94bc-ef0056d4f039",
   "metadata": {},
   "outputs": [],
   "source": [
    "#plotting OutSourced smh over years \n",
    "plt.figure(figsize=(12, 6))\n",
    "plt.plot(fin_year,outsourced_smh[0],marker='o')\n",
    "plt.xlabel('Financial Years')\n",
    "plt.ylabel('Outsourced SMH')\n",
    "plt.title('Outsourced SMH over years')\n",
    "plt.grid()\n",
    "plt.show()"
   ]
  },
  {
   "cell_type": "code",
   "execution_count": null,
   "id": "c64cc5ee-530b-4d21-931f-421580bcb31b",
   "metadata": {},
   "outputs": [],
   "source": [
    "predicted=pd.DataFrame({\n",
    "    'financial_year' : data['financial_year'][9:15].reset_index()['financial_year'],\n",
    "    'sales' : data['sales'][9:15].reset_index()['sales'],\n",
    "    'man_power': data['man_power'][9:15].reset_index()['man_power'],\n",
    "    'efficiency' : fut_efficiency['predicted_mean'],\n",
    "    'dispatch_smh' : dispatch_smh_predicted_poly,\n",
    "    'inhouse_smh' : inhouse_smh_predicted['smh'],\n",
    "    'outsourced_smh' : outsourced_smh_test_pred\n",
    "\n",
    "})\n",
    "\n",
    "print(predicted)"
   ]
  }
 ],
 "metadata": {
  "kernelspec": {
   "display_name": "Python 3 (ipykernel)",
   "language": "python",
   "name": "python3"
  },
  "language_info": {
   "codemirror_mode": {
    "name": "ipython",
    "version": 3
   },
   "file_extension": ".py",
   "mimetype": "text/x-python",
   "name": "python",
   "nbconvert_exporter": "python",
   "pygments_lexer": "ipython3",
   "version": "3.11.7"
  }
 },
 "nbformat": 4,
 "nbformat_minor": 5
}
