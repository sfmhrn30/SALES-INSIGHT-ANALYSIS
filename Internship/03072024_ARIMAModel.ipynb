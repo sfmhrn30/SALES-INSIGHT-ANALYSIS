{
 "cells": [
  {
   "cell_type": "markdown",
   "id": "6aff528d-5bb8-41d6-8f1f-1a076b782d85",
   "metadata": {},
   "source": [
    "# Data Loading"
   ]
  },
  {
   "cell_type": "code",
   "execution_count": null,
   "id": "b28005bf-2c02-4c2a-8add-f5f0e0c8b158",
   "metadata": {},
   "outputs": [],
   "source": [
    "#import necessary libraries\n",
    "\n",
    "import pandas as pd\n",
    "import numpy as np"
   ]
  },
  {
   "cell_type": "code",
   "execution_count": null,
   "id": "670dda83-14b8-476a-9ee7-28513c4fba77",
   "metadata": {},
   "outputs": [],
   "source": [
    "data=pd.read_csv('datasets copies/DispatchSummary.csv')"
   ]
  },
  {
   "cell_type": "code",
   "execution_count": null,
   "id": "a22e3e26-2b6a-4545-b89b-6e9d23206240",
   "metadata": {},
   "outputs": [],
   "source": [
    "data.columns"
   ]
  },
  {
   "cell_type": "code",
   "execution_count": null,
   "id": "fdb7230c-d62f-424b-aa72-d29d5f8fe47f",
   "metadata": {},
   "outputs": [],
   "source": [
    "data.columns=['financial_year', 'sales', 'man_power', 'available_hours', 'inc_smh', 'efficiency', 'smh', 'booked', 'smh_lacs']"
   ]
  },
  {
   "cell_type": "code",
   "execution_count": null,
   "id": "518ec196-c061-4304-aaa7-84a51ca8b328",
   "metadata": {},
   "outputs": [],
   "source": [
    "data.columns"
   ]
  },
  {
   "cell_type": "code",
   "execution_count": null,
   "id": "cd5739dd-2f4a-4276-a7fd-ff2a09455671",
   "metadata": {},
   "outputs": [],
   "source": [
    "dataDic={}\n",
    "dataDic['financial_year']=data['financial_year'][0:9]\n",
    "dataDic['sales']=data['sales'][0:9]\n",
    "dataDic['man_power']=data['man_power'][0:9]\n",
    "dataDic['efficiency']=data['efficiency'][0:9]\n",
    "dataDic['booked']=data['booked'][0:9]\n",
    "dataDic['dispatch_smh']=data['inc_smh'][0:9]\n",
    "dataDic['inhouse_smh']=data['smh'][0:9]\n",
    "dataDic['outsourced_smh']=data['smh_lacs'][0:9]\n",
    "\n",
    "print(dataDic)"
   ]
  },
  {
   "cell_type": "code",
   "execution_count": null,
   "id": "4dfa0e1e-7d81-4576-a3a3-c46df3a2d5c5",
   "metadata": {},
   "outputs": [],
   "source": [
    "df=pd.DataFrame(dataDic)\n",
    "print(df)"
   ]
  },
  {
   "cell_type": "markdown",
   "id": "eedc7dbb-ee0d-4bf0-8134-ce36f79e6f9e",
   "metadata": {},
   "source": [
    "# Efficiency prediction"
   ]
  },
  {
   "cell_type": "code",
   "execution_count": null,
   "id": "a27dc60c-3ed8-47ca-99e0-3983f5c28af3",
   "metadata": {},
   "outputs": [],
   "source": [
    "from statsmodels.tsa.arima.model import ARIMA\n",
    "# Create and fit the ARIMA model\n",
    "model = ARIMA(data['efficiency'][0:9], order=(1, 1, 1)) # Adjust (p, d, q) based on you\n",
    "model_fit = model.fit()\n",
    "# Forecast the next 5 periods (5 years in this case)\n",
    "forecast = model_fit.forecast(steps=6)\n",
    "# Print the forecasted values\n",
    "print(forecast)\n"
   ]
  },
  {
   "cell_type": "code",
   "execution_count": null,
   "id": "cfe68b04-565a-463c-9498-31ae7a175d59",
   "metadata": {},
   "outputs": [],
   "source": [
    "import pickle\n",
    "\n",
    "pickle.dump(model_fit, open('effModel.pkl', 'wb'))"
   ]
  },
  {
   "cell_type": "code",
   "execution_count": null,
   "id": "328867f0-a635-4bb9-add8-3e9ee46f91dd",
   "metadata": {},
   "outputs": [],
   "source": [
    "from decimal import Decimal, ROUND_DOWN\n",
    "\n",
    "for i in range(6):\n",
    "    value=Decimal(forecast[i+9])\n",
    "    forecast[i+9]=value.quantize(Decimal('0.01'), rounding=ROUND_DOWN)\n",
    "print(forecast)"
   ]
  },
  {
   "cell_type": "code",
   "execution_count": null,
   "id": "dfabbbd3-5990-4b4e-a58b-d3ac362e08c4",
   "metadata": {},
   "outputs": [],
   "source": [
    "fin_year=data['financial_year']\n",
    "print(len(fin_year))\n",
    "efficiency_ar=pd.concat([df['efficiency'], pd.DataFrame(forecast)['predicted_mean']], axis=0)\n",
    "efficiency_ar=efficiency_ar.reset_index()\n",
    "\n",
    "#display\n",
    "print('Financial year\\tEfficiency')\n",
    "for i in range(len(fin_year)):\n",
    "    print(fin_year[i],'\\t',efficiency_ar[0][i])\n",
    "\n",
    "#plot\n",
    "import matplotlib.pyplot as plt\n",
    "\n",
    "plt.figure(figsize=(12, 6))\n",
    "plt.plot(fin_year, efficiency_ar[0], marker='o')\n",
    "plt.xlabel('Financial year')\n",
    "plt.ylabel('Efficiency')\n",
    "plt.title('Efficiency over years')\n",
    "plt.grid()\n",
    "plt.savefig('effOverYears.png')\n",
    "plt.show()"
   ]
  },
  {
   "cell_type": "markdown",
   "id": "5414e5ab-11e9-43f0-8a94-f9913b19b650",
   "metadata": {},
   "source": [
    "# Inhouse smh"
   ]
  },
  {
   "cell_type": "code",
   "execution_count": null,
   "id": "5bcc2f1a-ef7f-4fa7-8b35-7f2bc7aa9c28",
   "metadata": {},
   "outputs": [],
   "source": [
    "booked_test=data['booked'][9:15].reset_index()\n",
    "financial_year_test=data['financial_year'][9:15].reset_index()\n",
    "\n",
    "fut_efficiency=forecast.reset_index()\n",
    "inhouse_smh_predicted = (booked_test['booked'] * fut_efficiency['predicted_mean']) / 100\n",
    "inhouse_smh_predicted = inhouse_smh_predicted.reset_index()\n",
    "inhouse_smh_predicted.columns=['index', 'smh']"
   ]
  },
  {
   "cell_type": "code",
   "execution_count": null,
   "id": "18d6bc35-65aa-479a-89d4-97cbe507145b",
   "metadata": {},
   "outputs": [],
   "source": [
    "from decimal import Decimal, ROUND_DOWN\n",
    "\n",
    "for i in range(6):\n",
    "    value=Decimal(inhouse_smh_predicted['smh'][i])\n",
    "    inhouse_smh_predicted['smh'][i]=value.quantize(Decimal('0.01'), rounding=ROUND_DOWN)\n",
    "print(inhouse_smh_predicted['smh'])"
   ]
  },
  {
   "cell_type": "code",
   "execution_count": null,
   "id": "afd41299-a501-457a-991b-f8f13bcb7964",
   "metadata": {},
   "outputs": [],
   "source": [
    "print('Prediction on future data')\n",
    "print('Financial year\\tEfficiency\\tInhouse SMH\\t\\tBooked')\n",
    "for i in range(len(booked_test)):\n",
    "    print(financial_year_test['financial_year'][i],'\\t',fut_efficiency['predicted_mean'][i],'\\t',inhouse_smh_predicted['smh'][i],'\\t',booked_test['booked'][i])\n"
   ]
  },
  {
   "cell_type": "markdown",
   "id": "e30b5b58-2789-4cc9-a061-e760f5dc7ac0",
   "metadata": {},
   "source": [
    "**Overall Data**"
   ]
  },
  {
   "cell_type": "code",
   "execution_count": null,
   "id": "7217acaa-9ab0-466a-b38e-3aaf670e12f2",
   "metadata": {},
   "outputs": [],
   "source": [
    "manpower=data['man_power']\n",
    "\n",
    "inhouse_smh=pd.concat([pd.DataFrame({'smh':df['inhouse_smh']}), pd.DataFrame(inhouse_smh_predicted['smh'])], axis=0)\n",
    "inhouse_smh=inhouse_smh.reset_index()\n",
    "\n",
    "print('Financial year\\tMan Power\\tEfficiency\\tInnhouse SMH')\n",
    "for i in range(len(manpower)):\n",
    "    print(fin_year[i], '\\t\\t', manpower[i], '\\t\\t', efficiency_ar[0][i], '\\t\\t\\t', inhouse_smh['smh'][i], sep='')"
   ]
  },
  {
   "cell_type": "code",
   "execution_count": null,
   "id": "91de4c7a-ca09-4b12-b45c-3bc66a603f98",
   "metadata": {},
   "outputs": [],
   "source": [
    "#plot(financial year vs inhouse smh)\n",
    "\n",
    "plt.figure(figsize=(12, 6))\n",
    "plt.plot(fin_year, inhouse_smh['smh'], marker='o')\n",
    "plt.xlabel('Financial Year')\n",
    "plt.ylabel('Inhouse SMH')\n",
    "plt.title('Inhouse SMH over years')\n",
    "plt.grid()\n",
    "plt.savefig('inhouseOverYears.png')\n",
    "plt.show()"
   ]
  },
  {
   "cell_type": "markdown",
   "id": "03f20c45-8b10-49d3-aadc-0b2539cb356b",
   "metadata": {},
   "source": [
    "# Dispatch smh"
   ]
  },
  {
   "cell_type": "code",
   "execution_count": null,
   "id": "151f4704-0dc8-4c4a-b568-e8ee568a812d",
   "metadata": {},
   "outputs": [],
   "source": [
    "from statsmodels.tsa.arima.model import ARIMA\n",
    "# Create and fit the ARIMA model\n",
    "dispatch_model = ARIMA(df['dispatch_smh'], order=(2, 3, 1)) # Adjust (p, d, q) based on you\n",
    "dispatch_model_fit = dispatch_model.fit()\n",
    "# Forecast the next 5 periods (5 years in this case)\n",
    "dispatch_forecast = dispatch_model_fit.forecast(steps=6)\n",
    "# Print the forecasted values\n",
    "print(dispatch_forecast)\n"
   ]
  },
  {
   "cell_type": "code",
   "execution_count": null,
   "id": "56c13d43-9049-4b4d-8f49-0cce01f62c5f",
   "metadata": {},
   "outputs": [],
   "source": [
    "import pickle\n",
    "\n",
    "pickle.dump(dispatch_model_fit, open('dispatchModel.pkl', 'wb'))"
   ]
  },
  {
   "cell_type": "code",
   "execution_count": null,
   "id": "a6370123-215c-4b41-a03e-b3fb13e1a743",
   "metadata": {},
   "outputs": [],
   "source": [
    "from decimal import Decimal, ROUND_DOWN\n",
    "\n",
    "for i in range(6):\n",
    "    value=Decimal(dispatch_forecast[i+9])\n",
    "    dispatch_forecast[i+9]=value.quantize(Decimal('0.01'), rounding=ROUND_DOWN)\n",
    "print(dispatch_forecast)"
   ]
  },
  {
   "cell_type": "code",
   "execution_count": null,
   "id": "ad0af278-c4b4-4752-b521-46c02502a8bf",
   "metadata": {},
   "outputs": [],
   "source": [
    "fin_year=data['financial_year']\n",
    "dispatch_ar=pd.concat([df['dispatch_smh'], pd.DataFrame(dispatch_forecast)['predicted_mean']], axis=0)\n",
    "dispatch_ar=dispatch_ar.reset_index()\n",
    "\n",
    "#display\n",
    "print('Financial year\\tDispatch SMH')\n",
    "for i in range(len(fin_year)):\n",
    "    print(fin_year[i],'\\t',dispatch_ar[0][i])\n",
    "\n",
    "#plot\n",
    "import matplotlib.pyplot as plt\n",
    "\n",
    "plt.figure(figsize=(12, 6))\n",
    "plt.plot(fin_year, dispatch_ar[0], marker='o')\n",
    "plt.xlabel('Financial year')\n",
    "plt.ylabel('Dispatch SMH')\n",
    "plt.title('Dispatch SMH over years')\n",
    "plt.grid()\n",
    "plt.savefig('dispatchOverYears.png')\n",
    "plt.show()"
   ]
  },
  {
   "cell_type": "code",
   "execution_count": null,
   "id": "bbac9732-cba4-4054-8b8b-f3ce33952f6d",
   "metadata": {},
   "outputs": [],
   "source": [
    "import itertools\n",
    "p=d=q=range(0,5)\n",
    "pdq=list(itertools.product(p,d,q))\n",
    "param_aic={}\n",
    "for param in pdq:\n",
    "    try:\n",
    "        model=ARIMA(data['inc_smh'],order=param)\n",
    "        model_fit=model.fit()\n",
    "        param_aic[param]=model_fit.aic\n",
    "    except:\n",
    "        continue"
   ]
  },
  {
   "cell_type": "code",
   "execution_count": null,
   "id": "4648d233-8d09-44bc-bfe1-b50cbb6f1cc5",
   "metadata": {},
   "outputs": [],
   "source": [
    "min_key = min(param_aic, key=param_aic.get)\n",
    "min_value = param_aic[min_key]\n",
    "print(min_key, '->', min_value)"
   ]
  },
  {
   "cell_type": "markdown",
   "id": "2ce124f1-8b71-4dd8-8dc3-092727b491eb",
   "metadata": {},
   "source": [
    "# Outsourced SMH"
   ]
  },
  {
   "cell_type": "code",
   "execution_count": null,
   "id": "5d1381ed-2701-4c43-8684-1fb8fa0c4ec8",
   "metadata": {},
   "outputs": [],
   "source": [
    "from statsmodels.tsa.arima.model import ARIMA\n",
    "# Create and fit the ARIMA model\n",
    "outsourced_model = ARIMA(df['outsourced_smh'], order=(2, 1, 1)) # Adjust (p, d, q) based on you\n",
    "outsourced_model_fit = outsourced_model.fit()\n",
    "# Forecast the next 5 periods (5 years in this case)\n",
    "outsourced_forecast =outsourced_model_fit.forecast(steps=6)\n",
    "# Print the forecasted values\n",
    "print(outsourced_forecast)\n"
   ]
  },
  {
   "cell_type": "code",
   "execution_count": null,
   "id": "3901a91c-f6eb-4322-95bd-ee680c2c61d0",
   "metadata": {},
   "outputs": [],
   "source": [
    "import pickle\n",
    "\n",
    "pickle.dump(outsourced_model_fit, open('outsourcedModel.pkl', 'wb'))"
   ]
  },
  {
   "cell_type": "code",
   "execution_count": null,
   "id": "c7aa1df2-d767-4f09-8209-0a25b11b2fe3",
   "metadata": {},
   "outputs": [],
   "source": [
    "from decimal import Decimal, ROUND_DOWN\n",
    "\n",
    "for i in range(6):\n",
    "    value=Decimal(outsourced_forecast[i+9])\n",
    "    outsourced_forecast[i+9]=value.quantize(Decimal('0.01'), rounding=ROUND_DOWN)\n",
    "print(outsourced_forecast)"
   ]
  },
  {
   "cell_type": "code",
   "execution_count": null,
   "id": "3c85888d-5c72-47e0-bc13-8f9674ee9f5b",
   "metadata": {},
   "outputs": [],
   "source": [
    "fin_year=data['financial_year']\n",
    "outsourced_ar=pd.concat([df['outsourced_smh'], pd.DataFrame(outsourced_forecast)['predicted_mean']], axis=0)\n",
    "outsourced_ar=outsourced_ar.reset_index()\n",
    "\n",
    "#display\n",
    "print('Financial year\\tOutsourced SMH')\n",
    "for i in range(len(fin_year)):\n",
    "    print(fin_year[i],'\\t',outsourced_ar[0][i])\n",
    "\n",
    "#plot\n",
    "import matplotlib.pyplot as plt\n",
    "\n",
    "plt.figure(figsize=(12, 6))\n",
    "plt.plot(fin_year, outsourced_ar[0], marker='o')\n",
    "plt.xlabel('Financial year')\n",
    "plt.ylabel('outsourced SMH')\n",
    "plt.title('outsourced SMH over years')\n",
    "plt.grid()\n",
    "plt.savefig('outsourcedOverYears.png')\n",
    "plt.show()"
   ]
  },
  {
   "cell_type": "code",
   "execution_count": null,
   "id": "cfda41b1-6685-401d-a5ce-272e2dc125f9",
   "metadata": {},
   "outputs": [],
   "source": [
    "import itertools\n",
    "p=d=q=range(0,5)\n",
    "pdq=list(itertools.product(p,d,q))\n",
    "param_aic={}\n",
    "for param in pdq:\n",
    "    try:\n",
    "        model=ARIMA(data['smh_lacs'],order=param)\n",
    "        model_fit=model.fit()\n",
    "        param_aic[param]=model_fit.aic\n",
    "    except:\n",
    "        continue"
   ]
  },
  {
   "cell_type": "code",
   "execution_count": null,
   "id": "4c0c01a4-b644-4bce-a5b6-b8a6ce6339d1",
   "metadata": {},
   "outputs": [],
   "source": [
    "min_key = min(param_aic, key=param_aic.get)\n",
    "min_value = param_aic[min_key]\n",
    "print(min_key, '->', min_value)"
   ]
  },
  {
   "cell_type": "code",
   "execution_count": null,
   "id": "935ea1c8-38b2-4dd8-b730-fbb7b8003274",
   "metadata": {},
   "outputs": [],
   "source": [
    "from statsmodels.tsa.stattools import adfuller\n",
    "outsorced_smh=data['smh_lacs'][0:9]\n",
    "result = adfuller(outsorced_smh)\n",
    "d=0\n",
    "while result[1] > 0.05:\n",
    "    d+=1\n",
    "    outsorced_smh = outsorced_smh.diff().dropna()\n",
    "    result = adfuller(outsorced_smh.dropna())\n",
    "print('Value of d: ', d)"
   ]
  },
  {
   "cell_type": "code",
   "execution_count": null,
   "id": "0b394806-b001-4448-b265-b4f3239c2021",
   "metadata": {},
   "outputs": [],
   "source": [
    "man_power=data['man_power']\n",
    "print('Financial Year\\tMan Power\\tEfficiency\\tInhouse SMH\\tDispatch SMH\\tOutsourced SMH')\n",
    "for i in range(len(man_power)):\n",
    "    print(fin_year[i],'\\t',man_power[i],'\\t',efficiency_ar[0][i],'\\t',inhouse_smh['smh'][i],'\\t',dispatch_ar[0][i],'\\t',outsourced_ar[0][i])\n",
    "\n"
   ]
  },
  {
   "cell_type": "code",
   "execution_count": null,
   "id": "b1714722-ac19-4524-9ee3-717c927373a0",
   "metadata": {},
   "outputs": [],
   "source": [
    "predicted=pd.DataFrame({\n",
    "    'financial_year' : data['financial_year'][9:15].reset_index()['financial_year'],\n",
    "    'sales' : data['sales'][9:15].reset_index()['sales'],\n",
    "    'man_power': data['man_power'][9:15].reset_index()['man_power'],\n",
    "    'efficiency' : fut_efficiency['predicted_mean'],\n",
    "    'dispatch_smh' : dispatch_forecast.reset_index()['predicted_mean'],\n",
    "    'inhouse_smh' : inhouse_smh_predicted['smh'],\n",
    "    'outsourced_smh' : outsourced_forecast.reset_index()['predicted_mean']\n",
    "\n",
    "})\n",
    "\n",
    "print(predicted)"
   ]
  },
  {
   "cell_type": "code",
   "execution_count": null,
   "id": "689f0aed-4e49-4efb-a63e-d751ca3cbed6",
   "metadata": {},
   "outputs": [],
   "source": [
    "import pickle\n",
    "\n",
    "#dump\n",
    "pickle.dump(predicted, open('predictedValues.pkl', 'wb'))"
   ]
  }
 ],
 "metadata": {
  "kernelspec": {
   "display_name": "Python 3 (ipykernel)",
   "language": "python",
   "name": "python3"
  },
  "language_info": {
   "codemirror_mode": {
    "name": "ipython",
    "version": 3
   },
   "file_extension": ".py",
   "mimetype": "text/x-python",
   "name": "python",
   "nbconvert_exporter": "python",
   "pygments_lexer": "ipython3",
   "version": "3.11.7"
  }
 },
 "nbformat": 4,
 "nbformat_minor": 5
}
